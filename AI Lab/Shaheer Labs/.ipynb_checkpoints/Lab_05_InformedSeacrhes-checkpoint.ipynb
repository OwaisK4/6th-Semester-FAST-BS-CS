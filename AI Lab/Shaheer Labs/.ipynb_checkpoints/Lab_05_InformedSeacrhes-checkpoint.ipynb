{
 "cells": [
  {
   "cell_type": "markdown",
   "metadata": {
    "id": "OffaXAyYJ2fD"
   },
   "source": [
    "**Pure heuristic search**, also known as blind search, is an algorithmic approach to problem-solving that relies solely on heuristic information without considering the actual cost of reaching a solution. In other words, it doesn't have knowledge about the cost or distance to reach the goal from a given state. It explores the search space based on heuristics or rules of thumb that guide its decisions, often without a clear strategy for optimality.\n",
    "\n",
    "A simple example of a pure heuristic search algorithm is** Depth-First Search (DFS)**. DFS explores as far as possible along each branch before backtracking. It doesn't consider the cost or distance to the goal; it simply follows a path until it reaches the end or exhausts all possibilities.\n"
   ]
  },
  {
   "cell_type": "code",
   "execution_count": 3,
   "metadata": {
    "colab": {
     "base_uri": "https://localhost:8080/"
    },
    "id": "E23CX9mwLDnC",
    "outputId": "bc4005f1-d1e1-4c3a-accc-70a2216e9f24"
   },
   "outputs": [
    {
     "name": "stdout",
     "output_type": "stream",
     "text": [
      "Path from A to F : ['A', 'B', 'E', 'F']\n"
     ]
    }
   ],
   "source": [
    "# Define the graph (adjacency list)\n",
    "graph = {\n",
    "    'A': ['B', 'C'],\n",
    "    'B': ['D', 'E'],\n",
    "    'C': ['F'],\n",
    "    'D': [],\n",
    "    'E': ['F'],\n",
    "    'F': []\n",
    "}\n",
    "\n",
    "# Perform Depth-First Search\n",
    "def dfs(graph, start, goal, path=[]):\n",
    "    path = path + [start]  # Add the current node to the path\n",
    "\n",
    "    if start == goal:\n",
    "        return path  # If the goal is reached, return the path\n",
    "\n",
    "    if start not in graph:\n",
    "        return None  # If the start node is not in the graph, return None\n",
    "\n",
    "    for node in graph[start]:\n",
    "        if node not in path:  # Avoid cycles\n",
    "            new_path = dfs(graph, node, goal, path)\n",
    "            if new_path:\n",
    "                return new_path  # If a path to the goal is found, return it\n",
    "\n",
    "    return None  # If no path to the goal is found, return None\n",
    "\n",
    "# Test the DFS algorithm\n",
    "start_node = 'A'\n",
    "goal_node = 'F'\n",
    "result = dfs(graph, start_node, goal_node)\n",
    "\n",
    "if result:\n",
    "    print(\"Path from\", start_node, \"to\", goal_node, \":\", result)\n",
    "else:\n",
    "    print(\"No path found from\", start_node, \"to\", goal_node)\n"
   ]
  },
  {
   "cell_type": "markdown",
   "metadata": {
    "id": "E4KVyq5BLL6D"
   },
   "source": [
    "**Example 2 Pure heuristic search:**\n",
    "Consider trying to solve a Rubik's Cube by randomly turning its faces without a clear strategy for solving it optimally. You might make moves based on patterns you've observed in the past or common sequences used by others to solve it. However, you're not considering the actual cost of each move or how it contributes to reaching the solved state efficiently."
   ]
  },
  {
   "cell_type": "code",
   "execution_count": 2,
   "metadata": {
    "colab": {
     "base_uri": "https://localhost:8080/"
    },
    "id": "QW5nOJijIlo1",
    "outputId": "27dd7066-340b-4bca-8a8a-234649359018"
   },
   "outputs": [
    {
     "name": "stdout",
     "output_type": "stream",
     "text": [
      "Current state of the Rubik's Cube:\n",
      "R R R   \n",
      "G G G   \n",
      "B B B   \n",
      "Y Y Y   \n",
      "W W W   \n",
      "O O O   \n",
      "\n",
      "Enter the number of random moves to shuffle the Rubik's Cube: 3\n",
      "Performing random move: B CW\n",
      "Performing random move: G CCW\n",
      "Performing random move: R CCW\n",
      "Current state of the Rubik's Cube:\n",
      "R R R   \n",
      "G G G   \n",
      "B B B   \n",
      "Y Y Y   \n",
      "W W W   \n",
      "O O O   \n",
      "\n"
     ]
    }
   ],
   "source": [
    "import random\n",
    "\n",
    "class RubiksCube:\n",
    "    def __init__(self):\n",
    "        # Initialize the Rubik's Cube with the solved state\n",
    "        self.state = ['R', 'R', 'R', 'R', 'R', 'R', 'R', 'R', 'R',   # Red side\n",
    "                      'G', 'G', 'G', 'G', 'G', 'G', 'G', 'G', 'G',   # Green side\n",
    "                      'B', 'B', 'B', 'B', 'B', 'B', 'B', 'B', 'B',   # Blue side\n",
    "                      'Y', 'Y', 'Y', 'Y', 'Y', 'Y', 'Y', 'Y', 'Y',   # Yellow side\n",
    "                      'W', 'W', 'W', 'W', 'W', 'W', 'W', 'W', 'W',   # White side\n",
    "                      'O', 'O', 'O', 'O', 'O', 'O', 'O', 'O', 'O']   # Orange side\n",
    "\n",
    "    def random_move(self):\n",
    "        # Perform a random move on the Rubik's Cube\n",
    "        face = random.choice(['R', 'G', 'B', 'Y', 'W', 'O'])\n",
    "        direction = random.choice(['CW', 'CCW'])  # Clockwise or Counterclockwise\n",
    "        print(\"Performing random move:\", face, direction)\n",
    "\n",
    "        # Simulate the move (not implemented for brevity)\n",
    "\n",
    "    def shuffle(self, num_moves):\n",
    "        # Shuffle the Rubik's Cube by performing a specified number of random moves\n",
    "        for _ in range(num_moves):\n",
    "            self.random_move()\n",
    "\n",
    "    def display_state(self):\n",
    "        # Display the current state of the Rubik's Cube\n",
    "        print(\"Current state of the Rubik's Cube:\")\n",
    "        for i in range(0, 54, 9):\n",
    "            print(' '.join(self.state[i:i+3]), end='   ')\n",
    "            print()\n",
    "        print()\n",
    "\n",
    "# Test the Rubik's Cube simulation\n",
    "if __name__ == \"__main__\":\n",
    "    rubiks_cube = RubiksCube()\n",
    "    rubiks_cube.display_state()\n",
    "\n",
    "    num_moves = int(input(\"Enter the number of random moves to shuffle the Rubik's Cube: \"))\n",
    "    rubiks_cube.shuffle(num_moves)\n",
    "    rubiks_cube.display_state()\n"
   ]
  },
  {
   "cell_type": "markdown",
   "metadata": {
    "id": "RHovJVUAIcky"
   },
   "source": [
    "**Example:** **A* Search**:\n",
    "\n",
    "Suppose we have a simple grid representing a maze, where 'S' denotes the start point, 'E' denotes the end point, 'X' denotes obstacles, and '.' denotes empty spaces. The algorithm will find the shortest path from the start to the end while avoiding obstacles."
   ]
  },
  {
   "cell_type": "markdown",
   "metadata": {
    "id": "k1ZmYjVyMNKg"
   },
   "source": [
    "**BFS:**\n",
    "\n",
    "Best First Search is a heuristic search algorithm that selects the most promising node for expansion based on a heuristic evaluation function. Unlike Depth-First Search or Breadth-First Search, Best First Search doesn't explore all possible nodes uniformly. Instead, it prioritizes nodes that appear to be closer to the goal according to a heuristic evaluation.\n",
    "\n",
    "**The best_first_search function performs Best First Search. It maintains a priority queue of nodes to be explored, prioritized based on their heuristic values.**\n",
    "\n",
    "**Example:**\n"
   ]
  },
  {
   "cell_type": "code",
   "execution_count": 4,
   "metadata": {
    "colab": {
     "base_uri": "https://localhost:8080/"
    },
    "id": "D25FeJ52MvHT",
    "outputId": "aedbb2d1-2c75-44c3-b6f1-a38a7820e50d"
   },
   "outputs": [
    {
     "name": "stdout",
     "output_type": "stream",
     "text": [
      "Path exists from A to F\n"
     ]
    }
   ],
   "source": [
    "# Define the graph (adjacency list)\n",
    "graph = {\n",
    "    'A': {'B': 4, 'C': 5},\n",
    "    'B': {'D': 7, 'E': 6},\n",
    "    'C': {'F': 8},\n",
    "    'D': {},\n",
    "    'E': {'F': 9},\n",
    "    'F': {}\n",
    "}\n",
    "\n",
    "# Define heuristic function (estimated distance to the goal)\n",
    "heuristic = {\n",
    "    'A': 10,\n",
    "    'B': 8,\n",
    "    'C': 7,\n",
    "    'D': 6,\n",
    "    'E': 5,\n",
    "    'F': 0\n",
    "}\n",
    "\n",
    "# Perform Best First Search\n",
    "def best_first_search(graph, start, goal):\n",
    "    visited = set()\n",
    "    priority_queue = [(heuristic[start], start)]\n",
    "\n",
    "    while priority_queue:\n",
    "        _, current_node = priority_queue.pop(0)\n",
    "\n",
    "        if current_node == goal:\n",
    "            return True  # Goal found\n",
    "\n",
    "        visited.add(current_node)\n",
    "\n",
    "        for neighbor, _ in graph[current_node].items():\n",
    "            if neighbor not in visited:\n",
    "                priority_queue.append((heuristic[neighbor], neighbor))\n",
    "                priority_queue.sort()  # Sort based on heuristic value\n",
    "\n",
    "    return False  # Goal not found\n",
    "\n",
    "# Test the Best First Search algorithm\n",
    "start_node = 'A'\n",
    "goal_node = 'F'\n",
    "\n",
    "if best_first_search(graph, start_node, goal_node):\n",
    "    print(f\"Path exists from {start_node} to {goal_node}\")\n",
    "else:\n",
    "    print(f\"No path exists from {start_node} to {goal_node}\")\n"
   ]
  },
  {
   "cell_type": "code",
   "execution_count": 1,
   "metadata": {
    "colab": {
     "base_uri": "https://localhost:8080/"
    },
    "id": "CRbdCG6yFEZA",
    "outputId": "3506e704-526e-408e-e795-193da899cf21"
   },
   "outputs": [
    {
     "name": "stdout",
     "output_type": "stream",
     "text": [
      "Shortest path found: [(0, 0), (0, 1), (0, 2), (1, 2), (2, 2), (2, 3), (2, 4), (3, 4)]\n"
     ]
    }
   ],
   "source": [
    "\n",
    "import heapq\n",
    "\n",
    "# Define the grid for the maze\n",
    "maze = [\n",
    "    ['S', '.', '.', '.', 'X'],\n",
    "    ['.', 'X', '.', 'X', '.'],\n",
    "    ['.', '.', '.', '.', '.'],\n",
    "    ['X', '.', 'X', '.', 'E']\n",
    "]\n",
    "\n",
    "# Define heuristic function (Euclidean distance from current cell to end)\n",
    "def heuristic(current, end):\n",
    "    return ((current[0] - end[0]) ** 2 + (current[1] - end[1]) ** 2) ** 0.5\n",
    "\n",
    "# Define A* search algorithm\n",
    "def astar_search(maze, start, end):\n",
    "    # Define movements: up, down, left, right\n",
    "    movements = [(-1, 0), (1, 0), (0, -1), (0, 1)]\n",
    "    rows, cols = len(maze), len(maze[0])\n",
    "\n",
    "    # Priority queue for open nodes\n",
    "    open_nodes = [(0, start)]\n",
    "    heapq.heapify(open_nodes)\n",
    "\n",
    "    # Dictionary to track parents of nodes\n",
    "    parents = {}\n",
    "    parents[start] = None\n",
    "\n",
    "    # Cost dictionary to track cost to reach each node\n",
    "    cost = {}\n",
    "    cost[start] = 0\n",
    "\n",
    "    while open_nodes:\n",
    "        current_cost, current_node = heapq.heappop(open_nodes)\n",
    "\n",
    "        if current_node == end:\n",
    "            # Reconstruct path\n",
    "            path = []\n",
    "            while current_node:\n",
    "                path.append(current_node)\n",
    "                current_node = parents[current_node]\n",
    "            return path[::-1]\n",
    "\n",
    "        for move in movements:\n",
    "            next_node = (current_node[0] + move[0], current_node[1] + move[1])\n",
    "            if 0 <= next_node[0] < rows and 0 <= next_node[1] < cols and maze[next_node[0]][next_node[1]] != 'X':\n",
    "                new_cost = cost[current_node] + 1  # Assuming each move costs 1 unit\n",
    "\n",
    "                if next_node not in cost or new_cost < cost[next_node]:\n",
    "                    cost[next_node] = new_cost\n",
    "                    priority = new_cost + heuristic(next_node, end)\n",
    "                    heapq.heappush(open_nodes, (priority, next_node))\n",
    "                    parents[next_node] = current_node\n",
    "\n",
    "    return None  # No path found\n",
    "\n",
    "# Test the algorithm\n",
    "start = (0, 0)\n",
    "end = (3, 4)\n",
    "path = astar_search(maze, start, end)\n",
    "if path:\n",
    "    print(\"Shortest path found:\", path)\n",
    "else:\n",
    "    print(\"No path found\")\n"
   ]
  }
 ],
 "metadata": {
  "colab": {
   "provenance": []
  },
  "kernelspec": {
   "display_name": "Python 3 (ipykernel)",
   "language": "python",
   "name": "python3"
  },
  "language_info": {
   "codemirror_mode": {
    "name": "ipython",
    "version": 3
   },
   "file_extension": ".py",
   "mimetype": "text/x-python",
   "name": "python",
   "nbconvert_exporter": "python",
   "pygments_lexer": "ipython3",
   "version": "3.10.12"
  }
 },
 "nbformat": 4,
 "nbformat_minor": 1
}
