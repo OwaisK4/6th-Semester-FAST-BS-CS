{
 "cells": [
  {
   "cell_type": "markdown",
   "id": "821e3f21",
   "metadata": {},
   "source": [
    "1. Write a python program that takes user input for a number then adds 3 to that number.Then multiplies the result by 2, subtract 4, then again adds 3, then prints the result."
   ]
  },
  {
   "cell_type": "code",
   "execution_count": 7,
   "id": "1f4d3908",
   "metadata": {},
   "outputs": [
    {
     "name": "stdout",
     "output_type": "stream",
     "text": [
      "Enter a number: 153\n",
      "Result 311\n"
     ]
    }
   ],
   "source": [
    "x = int(input(\"Enter a number: \"))\n",
    "x+=3\n",
    "x*=2\n",
    "x-=4\n",
    "x+=3\n",
    "print(\"Result\", x)"
   ]
  },
  {
   "cell_type": "markdown",
   "id": "e01a51dd",
   "metadata": {},
   "source": [
    "2. Write a python program that takes input as radius then calculates the area of the circle. (hint:A= πr2)."
   ]
  },
  {
   "cell_type": "code",
   "execution_count": 12,
   "id": "703a4f37",
   "metadata": {},
   "outputs": [
    {
     "name": "stdout",
     "output_type": "stream",
     "text": [
      "Enter Radius of Circle:1234\n",
      "Area  4783879.062809779\n"
     ]
    }
   ],
   "source": [
    "from math import pi\n",
    "r = int(input(\"Enter Radius of Circle:\"))\n",
    "print(\"Area \", pi*r**2)"
   ]
  },
  {
   "cell_type": "markdown",
   "id": "114a1d37",
   "metadata": {},
   "source": [
    "3. Write a Python program that asks users for their favourite color. Create the following output\n",
    "(assuming blue is the chosen color) (hint: use ‘+’ and ‘*’)"
   ]
  },
  {
   "cell_type": "raw",
   "id": "c0449a74",
   "metadata": {},
   "source": [
    "blueblueblueblueblueblueblueblueblueblue\n",
    "blue                                blue\n",
    "blueblueblueblueblueblueblueblueblueblue"
   ]
  },
  {
   "cell_type": "code",
   "execution_count": 25,
   "id": "9c5c7343",
   "metadata": {},
   "outputs": [
    {
     "name": "stdout",
     "output_type": "stream",
     "text": [
      "Enter your favourite color: Black\n",
      "BlackBlackBlackBlackBlackBlackBlackBlackBlackBlack\n",
      "Black                                        Black\n",
      "BlackBlackBlackBlackBlackBlackBlackBlackBlackBlack\n"
     ]
    }
   ],
   "source": [
    "color = input(\"Enter your favourite color: \")\n",
    "print(color*10)\n",
    "print(color, \" \"*((len(color)*8)+(-2)), color)\n",
    "print(color*10)"
   ]
  },
  {
   "cell_type": "markdown",
   "id": "13eae45e",
   "metadata": {},
   "source": [
    "4. Store a person’s name, and include some whitespace characters at the beginning and end of\n",
    "the name. Make sure you use each character combination, \"\\t\" and \"\\n\", at least once. Print\n",
    "the name once, so the whitespace around the name is displayed. Then print the name using\n",
    "each of the three stripping functions, lstrip(),rstrip(), and strip()."
   ]
  },
  {
   "cell_type": "code",
   "execution_count": 68,
   "id": "cbf73f09",
   "metadata": {},
   "outputs": [
    {
     "name": "stdout",
     "output_type": "stream",
     "text": [
      "' \tShaheer\n",
      " '\n",
      "--Original: '\tShaheer\n",
      "'\n",
      "--lstrip(): 'Shaheer\n",
      "'\n",
      "--rstrip(): '\tShaheer'\n",
      "--strip(): 'Shaheer'\n"
     ]
    }
   ],
   "source": [
    "name = \"\\tShaheer\\n\"\n",
    "print(\"--Original: '{}'\".format(name))\n",
    "print(\"--lstrip(): '{}'\".format(name.lstrip()))\n",
    "print(\"--rstrip(): '{}'\".format(name.rstrip()))\n",
    "print(\"--strip(): '{}'\".format(name.strip()))"
   ]
  },
  {
   "cell_type": "markdown",
   "id": "c20854f0",
   "metadata": {},
   "source": [
    "5. Write a function called absolute_num() that accepts one parameter, num. The function should\n",
    "return only positive value , and apply condition on it. This function returns the absolute value\n",
    "of the entered number."
   ]
  },
  {
   "cell_type": "code",
   "execution_count": 64,
   "id": "ef6b84fb",
   "metadata": {},
   "outputs": [
    {
     "name": "stdout",
     "output_type": "stream",
     "text": [
      "Enter a number: -4655\n",
      "Absolute Value:  4655\n"
     ]
    }
   ],
   "source": [
    "def absolute_num(x):\n",
    "    if(x<0):\n",
    "        x*=-1\n",
    "    return x\n",
    "\n",
    "x = int(input(\"Enter a number: \"))\n",
    "print(\"Absolute Value: \",absolute_num(x))"
   ]
  },
  {
   "cell_type": "markdown",
   "id": "3977e7ce",
   "metadata": {},
   "source": [
    "6. Write a python program that takes a user input and to create the multiplication table (from\n",
    "1 to 10) of that number."
   ]
  },
  {
   "cell_type": "code",
   "execution_count": 65,
   "id": "d61b7ac3",
   "metadata": {},
   "outputs": [
    {
     "name": "stdout",
     "output_type": "stream",
     "text": [
      "Enter a number: 214655\n",
      "214655 * 1 = 214655\n",
      "214655 * 2 = 429310\n",
      "214655 * 3 = 643965\n",
      "214655 * 4 = 858620\n",
      "214655 * 5 = 1073275\n",
      "214655 * 6 = 1287930\n",
      "214655 * 7 = 1502585\n",
      "214655 * 8 = 1717240\n",
      "214655 * 9 = 1931895\n",
      "214655 * 10 = 2146550\n"
     ]
    }
   ],
   "source": [
    "x = int(input(\"Enter a number: \"))\n",
    "for i in range (1,11):\n",
    "    print(x, \"*\", i, \"=\", x*i)"
   ]
  },
  {
   "cell_type": "markdown",
   "id": "4367d289",
   "metadata": {},
   "source": [
    "7. Write a Python program that prints all the numbers from 0 to 6 except 3 and 6.\n",
    "Note : Use 'continue' statement."
   ]
  },
  {
   "cell_type": "code",
   "execution_count": 47,
   "id": "108f6e1e",
   "metadata": {},
   "outputs": [
    {
     "name": "stdout",
     "output_type": "stream",
     "text": [
      "0\n",
      "1\n",
      "2\n",
      "4\n",
      "5\n"
     ]
    }
   ],
   "source": [
    "for i in range(6+1):\n",
    "    if(i==3 or i==6):\n",
    "        continue\n",
    "    print(i)"
   ]
  },
  {
   "cell_type": "markdown",
   "id": "9d1f428a",
   "metadata": {},
   "source": [
    "8. Stages of Life: Write an if-elif-else chain that determines a person’s stage of life. Set a value\n",
    "for the variable age, and then:\n",
    "- If the person is less than 2 years old, print a message that the person is a baby.\n",
    "- If the person is at least 4 years old but less than 13, print a message that the\n",
    "person is a kid.\n",
    "- If the person is at least 13 years old but less than 20, print a message that the\n",
    "person is a teenager.\n",
    "- If the person is at least 20 years old but less than 65, print a message that the\n",
    "person is an adult.\n",
    "- If the person is age 65 or older, print a message that the person is an elder."
   ]
  },
  {
   "cell_type": "code",
   "execution_count": 66,
   "id": "0c4a11b3",
   "metadata": {},
   "outputs": [
    {
     "name": "stdout",
     "output_type": "stream",
     "text": [
      "Enter a person age: 20\n",
      "adult\n"
     ]
    }
   ],
   "source": [
    "x = int(input(\"Enter a person age: \"))\n",
    "if(x<2):\n",
    "    print(\"baby\")\n",
    "elif(x>=4 and x<13):\n",
    "    print(\"kid\")\n",
    "elif(x>=13 and x<20):\n",
    "    print(\"teenager\")\n",
    "elif(x>=20 and x<65):\n",
    "    print(\"adult\")\n",
    "elif(x>=65):\n",
    "    print(\"elder\")"
   ]
  }
 ],
 "metadata": {
  "kernelspec": {
   "display_name": "Python 3 (ipykernel)",
   "language": "python",
   "name": "python3"
  },
  "language_info": {
   "codemirror_mode": {
    "name": "ipython",
    "version": 3
   },
   "file_extension": ".py",
   "mimetype": "text/x-python",
   "name": "python",
   "nbconvert_exporter": "python",
   "pygments_lexer": "ipython3",
   "version": "3.10.12"
  }
 },
 "nbformat": 4,
 "nbformat_minor": 5
}
