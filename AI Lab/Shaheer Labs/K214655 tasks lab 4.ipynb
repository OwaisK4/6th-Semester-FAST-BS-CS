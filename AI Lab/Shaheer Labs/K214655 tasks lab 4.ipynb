{
 "cells": [
  {
   "cell_type": "markdown",
   "metadata": {
    "id": "ccYbg-cRzx6v"
   },
   "source": [
    "## Task 1\n",
    "Implement a binary tree as follows and traverse it with (a.) Breadth First Search\n",
    "and (b.) Depth First Search. Print the nodes in the order in which they are visited\n"
   ]
  },
  {
   "cell_type": "code",
   "execution_count": null,
   "metadata": {
    "id": "x8CAeAVFzx6z",
    "outputId": "da315cd4-2b3b-4330-9496-63eff1295e02"
   },
   "outputs": [
    {
     "name": "stdout",
     "output_type": "stream",
     "text": [
      "Level Order Traversal of binary tree is -\n",
      "Hi\n",
      "S A B C D Z K M O G H "
     ]
    }
   ],
   "source": [
    "class Node:\n",
    "    def __init__ (self ,key):\n",
    "        self.data = key\n",
    "        self.left = None\n",
    "        self.right = None\n",
    "\n",
    "\n",
    "    def printOrder(self):\n",
    "        visited = []\n",
    "        queue = []\n",
    "        visited.append(self)\n",
    "        queue.append(self)\n",
    "        print(\"Hi\")\n",
    "\n",
    "        while queue:\n",
    "            m = queue.pop(0)\n",
    "            print(m.data, end=\" \")\n",
    "\n",
    "\n",
    "            for neighbour in [m.left, m.right]:\n",
    "\n",
    "                if neighbour is not None and neighbour not in visited:\n",
    "                    visited.append(neighbour)\n",
    "                    queue.append(neighbour)\n",
    "\n",
    "\n",
    "root = Node('S')\n",
    "root.left = Node('A')\n",
    "root.right = Node('B')\n",
    "root.left.left = Node('C')\n",
    "root.left.right = Node('D')\n",
    "root.right.left = Node('Z')\n",
    "root.right.right = Node('K')\n",
    "root.left.left.left = Node('M')\n",
    "root.left.left.right = Node('O')\n",
    "root.right.left.right = Node('G')\n",
    "root.right.left.right.left = Node('H')\n",
    "print (\"Level Order Traversal of binary tree is -\")\n",
    "\n",
    "root.printOrder()\n"
   ]
  },
  {
   "cell_type": "markdown",
   "metadata": {
    "id": "YGCuNVOxzx63"
   },
   "source": [
    "## Task 2\n",
    "Create the following graph and find the Minimum cost from node 0 to node 6 with Uniform-cost Search algorithm\n"
   ]
  },
  {
   "cell_type": "code",
   "execution_count": null,
   "metadata": {
    "id": "UvlflaHLzx65",
    "outputId": "a60ac166-c1b2-4513-ff74-66bba159a3b5"
   },
   "outputs": [
    {
     "name": "stdout",
     "output_type": "stream",
     "text": [
      "\n",
      "Uniform Cost Search:\n",
      "Path found by UCS: [0, 1, 6]\n",
      "Minimum cost from 0 to 6 is = 3\n"
     ]
    }
   ],
   "source": [
    "graph = {\n",
    "    0: {1: 2, 3: 5},\n",
    "    1: {6: 1},\n",
    "    2: {1: 4},\n",
    "    3: {1: 5, 6: 6, 4: 2},\n",
    "    4: {2: 4, 5: 3},\n",
    "    5: {2: 6, 6: 3},\n",
    "    6: {4: 7}\n",
    "}\n",
    "\n",
    "\n",
    "def ucs(graph, start, goal):\n",
    "    explored = []\n",
    "    queue = [(0, start, [])]\n",
    "    if start == goal:\n",
    "        return [start]\n",
    "    while queue:\n",
    "        queue.sort(key=lambda x: x[0])\n",
    "        cost, node, path = queue.pop(0)\n",
    "        if node not in explored:\n",
    "            explored.append(node)\n",
    "            if node == goal:\n",
    "                return path + [node]\n",
    "            for neighbour, neighbour_cost in graph[node].items():\n",
    "                if neighbour not in explored:\n",
    "                    new_path = path + [node]\n",
    "                    new_cost = cost + neighbour_cost\n",
    "                    queue.append((new_cost, neighbour, new_path))\n",
    "    return None\n",
    "\n",
    "\n",
    "if __name__ == \"__main__\":\n",
    "    print(\"\\nUniform Cost Search:\")\n",
    "    ucs_path = ucs(graph, 0, 6)\n",
    "    print(f\"Path found by UCS: {ucs_path}\")\n",
    "    if ucs_path:\n",
    "        # Calculate the total cost of the path\n",
    "        total_cost = sum(graph[ucs_path[i]][ucs_path[i+1]] for i in range(len(ucs_path)-1))\n",
    "        print(f\"Minimum cost from 0 to 6 is = {total_cost}\")"
   ]
  },
  {
   "cell_type": "markdown",
   "metadata": {
    "id": "jDhXCM_7zx6-"
   },
   "source": [
    "## Task 3\n",
    "In the following class “Graph”, implement Depth Limited Search and Iterative Deepening Depth Search methods. Find if the target node = 6, is reachable from source node = 0, given max depth = 3."
   ]
  },
  {
   "cell_type": "code",
   "execution_count": null,
   "metadata": {
    "id": "5DoBqZiEzx7A",
    "outputId": "3b1c7fb3-becd-4d19-ec72-94df13b75447"
   },
   "outputs": [
    {
     "name": "stdout",
     "output_type": "stream",
     "text": [
      "Target is reachable from source within max depth\n",
      "Path:  [0, 2, 6]\n"
     ]
    }
   ],
   "source": [
    "def dls(graph, start, goal, limit):\n",
    "    if start == goal:\n",
    "        return [start]\n",
    "    if limit == 0:\n",
    "        return None\n",
    "    neighbours = graph[start]\n",
    "    for neighbour in neighbours:\n",
    "        result = dls(graph, neighbour, goal, limit - 1)\n",
    "        if result is not None:\n",
    "            result.insert(0, start)\n",
    "            return result\n",
    "    return None\n",
    "\n",
    "def iddfs(graph, start, goal, max_depth=10):\n",
    "    for depth in range(max_depth):\n",
    "        result = dls(graph, start, goal, depth)\n",
    "        if result is not None:\n",
    "            return result\n",
    "    return None\n",
    "\n",
    "\n",
    "graph = {\n",
    "    0: {1: None, 2: None},\n",
    "    1: {3: None, 4: None},\n",
    "    2: {5: None, 6:None},\n",
    "}\n",
    "\n",
    "\n",
    "target = 6; maxDepth = 3; src = 0\n",
    "path = iddfs(graph, src, target, maxDepth)\n",
    "if path is not None:\n",
    "    print (\"Target is reachable from source within max depth\")\n",
    "    print (\"Path: \", path)\n",
    "else :\n",
    "    print (\"Target is NOT reachable from source within max depth\")\n"
   ]
  },
  {
   "cell_type": "markdown",
   "metadata": {
    "id": "zBPVR5NYzx7B"
   },
   "source": [
    "## Task 4\n",
    "Following code implements a class for Bi-directional Search with BFS. It checks for intersecting vertices and prints the path from source to target. Implement the bidirectional_search method in this class"
   ]
  },
  {
   "cell_type": "code",
   "execution_count": null,
   "metadata": {
    "id": "OL-2FsiTzx7C",
    "outputId": "607afb0b-99c0-4916-b3e0-e644970aa633"
   },
   "outputs": [
    {
     "name": "stdout",
     "output_type": "stream",
     "text": [
      "Path exists between 0 and 14\n",
      "Intersection at: 7\n",
      "*****Path*****\n",
      "0 4 6 7 8 10 14\n",
      "True\n"
     ]
    }
   ],
   "source": [
    "# Python program for Bidirectional BFS Search to check path between two vertices\n",
    "\n",
    "\n",
    "class AdjacentNode:\n",
    "    def __init__(self, vertex):\n",
    "        self.vertex = vertex\n",
    "        self.next = None\n",
    "\n",
    "\n",
    "# BidirectionalSearch implementation\n",
    "class BidirectionalSearch:\n",
    "    def __init__(self, vertices):  # Initialize vertices and\n",
    "        # graph with vertices\n",
    "        self.vertices = vertices\n",
    "        self.graph = [None] * self.vertices\n",
    "        # Initializing queue for forward and backward search\n",
    "        self.src_queue = list()\n",
    "        self.dest_queue = list()\n",
    "\n",
    "        # Initializing source and destination visited nodes as False\n",
    "        self.src_visited = [False] * self.vertices\n",
    "        self.dest_visited = [False] * self.vertices\n",
    "        # Initializing source and destination parent nodes\n",
    "        self.src_parent = [None] * self.vertices\n",
    "        self.dest_parent = [None] * self.vertices\n",
    "\n",
    "    # Function for adding undirected edge\n",
    "    def add_edge(self, src, dest):\n",
    "        # Add edges to graph\n",
    "        # Add source to destination\n",
    "        node = AdjacentNode(dest)\n",
    "        node.next = self.graph[src]\n",
    "        self.graph[src] = node\n",
    "        # Since graph is undirected add # destination to source\n",
    "        node = AdjacentNode(src)\n",
    "        node.next = self.graph[dest]\n",
    "        self.graph[dest] = node\n",
    "\n",
    "    def bfs(self, direction=\"forward\"):\n",
    "        if direction == \"forward\":\n",
    "            queue = self.src_queue\n",
    "            visited = self.src_visited\n",
    "            parent = self.src_parent\n",
    "        else:\n",
    "            queue = self.dest_queue\n",
    "            visited = self.dest_visited\n",
    "            parent = self.dest_parent\n",
    "\n",
    "        if queue:\n",
    "            current = queue.pop(0)\n",
    "            connected_node = self.graph[current]\n",
    "            while connected_node:\n",
    "                vertex = connected_node.vertex\n",
    "                if not visited[vertex]:\n",
    "                    queue.append(vertex)\n",
    "                    visited[vertex] = True\n",
    "                    parent[vertex] = current\n",
    "                connected_node = connected_node.next\n",
    "\n",
    "\n",
    "    def is_intersecting(self):\n",
    "        # Returns intersecting node\n",
    "        # if present else -1\n",
    "        for i in range(self.vertices):\n",
    "            if self.src_visited[i] and self.dest_visited[i]:\n",
    "                return i\n",
    "        return -1\n",
    "\n",
    "    def print_path(self, intersecting_node, src, dest):\n",
    "        # Print final path from source to destination\n",
    "        path = list()\n",
    "        path.append(intersecting_node)\n",
    "        i = intersecting_node\n",
    "\n",
    "        while i != src:\n",
    "            path.append(self.src_parent[i])\n",
    "            i = self.src_parent[i]\n",
    "        path = path[::-1]\n",
    "        i = intersecting_node\n",
    "\n",
    "        while i != dest:\n",
    "            path.append(self.dest_parent[i])\n",
    "            i = self.dest_parent[i]\n",
    "\n",
    "        print(\"*****Path*****\")\n",
    "        path = list(map(str, path))\n",
    "        print(\" \".join(path))\n",
    "\n",
    "    # Function for bidirectional searching\n",
    "\n",
    "    def bidirectional_search(self, src, dest):\n",
    "        self.src_queue.append(src)\n",
    "        self.src_visited[src] = True\n",
    "        self.dest_queue.append(dest)\n",
    "        self.dest_visited[dest] = True\n",
    "\n",
    "        while self.src_queue and self.dest_queue:\n",
    "            self.bfs(\"forward\")\n",
    "            self.bfs(\"backward\")\n",
    "\n",
    "            intersecting_node = self.is_intersecting()\n",
    "\n",
    "            if intersecting_node != -1:\n",
    "                print(f\"Path exists between {src} and {dest}\")\n",
    "                print(\"Intersection at:\", intersecting_node)\n",
    "                self.print_path(intersecting_node, src, dest)\n",
    "                return True\n",
    "\n",
    "        return False\n",
    "\n",
    "\n",
    "n = 15\n",
    "src = 0\n",
    "dest = 14\n",
    "graph = BidirectionalSearch(n)\n",
    "graph.add_edge(0, 4)\n",
    "graph.add_edge(1, 4)\n",
    "graph.add_edge(2, 5)\n",
    "graph.add_edge(3, 5)\n",
    "graph.add_edge(4, 6)\n",
    "graph.add_edge(5, 6)\n",
    "graph.add_edge(6, 7)\n",
    "graph.add_edge(7, 8)\n",
    "graph.add_edge(8, 9)\n",
    "graph.add_edge(8, 10)\n",
    "graph.add_edge(9, 11)\n",
    "graph.add_edge(9, 12)\n",
    "graph.add_edge(10, 13)\n",
    "graph.add_edge(10, 14)\n",
    "out = graph.bidirectional_search(src, dest)\n",
    "print(out)\n",
    "if not out:\n",
    "    print(f\"Path does not exist between {src} and {dest}\")\n"
   ]
  },
  {
   "cell_type": "markdown",
   "metadata": {
    "id": "Moe_-fIFzx7F"
   },
   "source": [
    "## Task 5\n",
    "\n",
    "Given a set of cities and distances between every pair of cities, the problem is to find the\n",
    "shortest possible route that visits every city exactly once and returns to the starting point.\n",
    "Like any problem, which can be optimized, there must be a cost function. In the context of\n",
    "TSP, total distance traveled must be reduced as much as possible.\n",
    "Consider the below matrix representing the distances (Cost) between the cities. Find the\n",
    "shortest possible route that visits every city exactly once and returns to the starting point."
   ]
  },
  {
   "cell_type": "code",
   "execution_count": 1,
   "metadata": {
    "colab": {
     "base_uri": "https://localhost:8080/"
    },
    "executionInfo": {
     "elapsed": 19,
     "status": "ok",
     "timestamp": 1709480872525,
     "user": {
      "displayName": "K214655 Muhammad Shaheer Luqman",
      "userId": "06085876416791773377"
     },
     "user_tz": -300
    },
    "id": "AjNBtXj5_4G6",
    "outputId": "f7a6e9af-f3be-4d80-9d23-007578a4dcc8"
   },
   "outputs": [
    {
     "name": "stdout",
     "output_type": "stream",
     "text": [
      "The cost of most efficient tour = 80\n"
     ]
    }
   ],
   "source": [
    "def tsp(graph, v, currPos, n, count, cost):\n",
    "    if count == n and graph[currPos][0]:\n",
    "        answer.append(cost + graph[currPos][0])\n",
    "        return\n",
    "\n",
    "    for i in range(n):\n",
    "        if not v[i] and graph[currPos][i]:\n",
    "            v[i] = True\n",
    "            tsp(graph, v, i, n, count + 1, cost + graph[currPos][i])\n",
    "            v[i] = False\n",
    "\n",
    "V = 4\n",
    "answer = []\n",
    "graph = [\n",
    "    [0, 10, 15, 20],\n",
    "    [10, 0, 35, 25],\n",
    "    [15, 35, 0, 30],\n",
    "    [20, 25, 30, 0]\n",
    "]\n",
    "v = [False for _ in range(V)]\n",
    "v[0] = True\n",
    "\n",
    "tsp(graph, v, 0, V, 1, 0)\n",
    "\n",
    "print(\"The cost of most efficient tour =\", min(answer))\n"
   ]
  },
  {
   "cell_type": "markdown",
   "metadata": {
    "id": "zSP7gza-_4G8"
   },
   "source": [
    "### DFS"
   ]
  },
  {
   "cell_type": "code",
   "execution_count": null,
   "metadata": {
    "id": "AUdsH9E9_4G9",
    "outputId": "1a4b9cf2-3ae1-456d-cc83-6e7f2d786042"
   },
   "outputs": [
    {
     "name": "stdout",
     "output_type": "stream",
     "text": [
      "\n",
      "Depth First Search:\n",
      "Path found by DFS: [0, 1, 6]\n"
     ]
    }
   ],
   "source": [
    "def dfs(graph, current, goal, visited=None):\n",
    "    if visited is None:\n",
    "        visited = set()\n",
    "\n",
    "    if current == goal:\n",
    "        return [current]\n",
    "\n",
    "    visited.add(current)\n",
    "\n",
    "    for neighbor in graph.get(current, {}):\n",
    "        if neighbor not in visited:\n",
    "            path = dfs(graph, neighbor, goal, visited)\n",
    "            if path:\n",
    "                return [current] + path\n",
    "\n",
    "    return None\n",
    "\n",
    "if __name__ == \"__main__\":\n",
    "    graph = {\n",
    "        0: {1: None, 3: None},\n",
    "        1: {6: None},\n",
    "        2: {1: None},\n",
    "        3: {1: None, 6: None, 4: None},\n",
    "        4: {2: None, 5: None},\n",
    "        5: {2: None, 6: None},\n",
    "        6: {4: None},\n",
    "    }\n",
    "\n",
    "    print(\"\\nDepth First Search:\")\n",
    "    dfs_path = dfs(graph, 0, 6)\n",
    "    if dfs_path:\n",
    "        print(f\"Path found by DFS: {dfs_path}\")\n",
    "    else:\n",
    "        print(\"No path found by DFS.\")\n"
   ]
  },
  {
   "cell_type": "code",
   "execution_count": null,
   "metadata": {
    "id": "mp2QGlhF_4G_"
   },
   "outputs": [],
   "source": []
  }
 ],
 "metadata": {
  "colab": {
   "provenance": []
  },
  "kernelspec": {
   "display_name": "Python 3 (ipykernel)",
   "language": "python",
   "name": "python3"
  },
  "language_info": {
   "codemirror_mode": {
    "name": "ipython",
    "version": 3
   },
   "file_extension": ".py",
   "mimetype": "text/x-python",
   "name": "python",
   "nbconvert_exporter": "python",
   "pygments_lexer": "ipython3",
   "version": "3.10.12"
  }
 },
 "nbformat": 4,
 "nbformat_minor": 1
}
