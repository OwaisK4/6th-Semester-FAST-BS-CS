{
 "cells": [
  {
   "cell_type": "code",
   "execution_count": 19,
   "metadata": {
    "colab": {
     "base_uri": "https://localhost:8080/"
    },
    "id": "isk0ctbuFM94",
    "outputId": "39dbb491-3e8d-4f3f-e12a-99d9ce345e82"
   },
   "outputs": [
    {
     "name": "stdout",
     "output_type": "stream",
     "text": [
      "Huzaifa\n",
      "Ayan\n",
      "Waqas\n",
      "Ismail\n"
     ]
    }
   ],
   "source": [
    "# Task_I\n",
    "# Store the names of a few of your friends in a list of called names. Print each person’s name by\n",
    "# accessing each element in the list, one at a time.\n",
    "names = ['Huzaifa', 'Ayan', 'Waqas', 'Ismail']\n",
    "for i in names:\n",
    "  print(i)"
   ]
  },
  {
   "cell_type": "code",
   "execution_count": 20,
   "metadata": {
    "colab": {
     "base_uri": "https://localhost:8080/"
    },
    "id": "tovwO4YjGh3Q",
    "outputId": "c37b206b-24f6-456b-fb3c-aa41bbfe8b95"
   },
   "outputs": [
    {
     "name": "stdout",
     "output_type": "stream",
     "text": [
      "Dear Huzaifa, you are invited to dinner.\n",
      "Dear Ayan, you are invited to dinner.\n",
      "Dear Waqas, you are invited to dinner.\n",
      "Dear Ismail, you are invited to dinner.\n"
     ]
    }
   ],
   "source": [
    "# Task_II\n",
    "# If you could invite anyone, living or deceased, to dinner, who would you invite? Make a list that\n",
    "# includes at least three people you’d like to invite to dinner. Then use your list to print a message\n",
    "# to each person, inviting them to dinner.\n",
    "\n",
    "guests = names.copy()\n",
    "for guest in guests:\n",
    "    print(f\"Dear {guest}, you are invited to dinner.\")"
   ]
  },
  {
   "cell_type": "code",
   "execution_count": 21,
   "metadata": {
    "colab": {
     "base_uri": "https://localhost:8080/"
    },
    "id": "TDC4aKtZGCec",
    "outputId": "2b1f181a-3f91-4837-f629-0b0f7195b967"
   },
   "outputs": [
    {
     "name": "stdout",
     "output_type": "stream",
     "text": [
      "Guest Ismail removed from the list.\n",
      "Guest Ahmed does not exist in the list.\n",
      "['Huzaifa', 'Ayan', 'Waqas']\n",
      "['Huzaifa', 'Ayan', 'Waqas', 'Ismail']\n"
     ]
    }
   ],
   "source": [
    "# Task_III\n",
    "# Changing Guest List: You just heard that one of your guests can’t make dinner, so you need to\n",
    "# send out a new set of invitations.\n",
    "\n",
    "# Modify your list, replacing the name of the guest who can’t make it with the name\n",
    "# of the new person you are inviting.\n",
    "cannot_come = ['Ismail', 'Ahmed']\n",
    "\n",
    "for i in cannot_come:\n",
    "  if i in guests:\n",
    "    guests.remove(i)\n",
    "    print(f\"Guest {i} removed from the list.\")\n",
    "  else:\n",
    "    print(f\"Guest {i} does not exist in the list.\")\n",
    "\n",
    "print(guests)  # Print the updated list\n",
    "print(names)"
   ]
  },
  {
   "cell_type": "code",
   "execution_count": 24,
   "metadata": {
    "colab": {
     "base_uri": "https://localhost:8080/"
    },
    "id": "3SJbz__0Izp5",
    "outputId": "1448ac1d-aa66-4962-a3ac-3061dee872dd"
   },
   "outputs": [
    {
     "name": "stdout",
     "output_type": "stream",
     "text": [
      "[['Huzaifa', 15, 4.0], ['Ayan', 20, 3.33], ['Shaheer', 20, 3.67]]\n",
      "Number of Students: 3\n",
      "Student with the highest grade: ['Huzaifa', 15, 4.0]\n",
      "Updated database after removing the student with the lowest age: [['Ayan', 20, 3.33], ['Shaheer', 20, 3.67]]\n",
      "Database as a tuple: (['Ayan', 20, 3.33], ['Shaheer', 20, 3.67])\n",
      "Sorted student records based on age: [['Ayan', 20, 3.33], ['Shaheer', 20, 3.67]]\n"
     ]
    }
   ],
   "source": [
    "# Task_IV\n",
    "# You are tasked with managing a database of student records. Each student record is represented\n",
    "# as a tuple containing the student&#39;s name, age, and grade. The database is initially empty, and you\n",
    "# need to perform the following operations:\n",
    "#  Create an empty list called student database to store student records.\n",
    "#  Add three students to the database.\n",
    "#  Find and print the total number of students in the database.\n",
    "#  Display the details of the student with the highest grade print the result.\n",
    "#  Remove the student with the lowest age and print the updated database.\n",
    "#  Convert the list of student records into a print the result.\n",
    "#  Sort the student records based on their age and print the sorted list.\n",
    "\n",
    "std_db = []\n",
    "\n",
    "# Add three students to the database.\n",
    "std_db.append(['Huzaifa', 15, 4.00])\n",
    "std_db.append(['Ayan', 20, 3.33])\n",
    "std_db.append(['Shaheer', 20, 3.67])\n",
    "print(std_db)\n",
    "\n",
    "# Find and print the total number of students in the database.\n",
    "print(\"Number of Students:\", len(std_db))\n",
    "\n",
    "# Display the details of the student with the highest grade.\n",
    "mx = 0\n",
    "HighGradeStd = None\n",
    "for i in std_db:\n",
    "    if i[2] >= mx:\n",
    "        mx = i[2]\n",
    "        HighGradeStd = i\n",
    "print(\"Student with the highest grade:\", HighGradeStd)\n",
    "\n",
    "# Remove the student with the lowest age and print the updated database.\n",
    "mn = float('inf')\n",
    "LowAgeStd = std_db[0]\n",
    "for i in std_db:\n",
    "    if i[1] < mn:\n",
    "        mn = i[1]\n",
    "        LowAgeStd = i\n",
    "std_db.remove(LowAgeStd)\n",
    "print(\"Updated database after removing the student with the lowest age:\", std_db)\n",
    "\n",
    "# Convert the list of student records into a tuple and print the result.\n",
    "std_db_tuple = tuple(std_db)\n",
    "print(\"Database as a tuple:\", std_db_tuple)\n",
    "\n",
    "# Sort the student records based on their age and print the sorted list.\n",
    "std_db.sort(key=lambda x: x[1])\n",
    "print(\"Sorted student records based on age:\", std_db)\n"
   ]
  },
  {
   "cell_type": "code",
   "execution_count": 23,
   "metadata": {
    "colab": {
     "base_uri": "https://localhost:8080/"
    },
    "id": "L117O_ZuIzlY",
    "outputId": "02a05117-1dca-44b3-df53-03ebe4938591"
   },
   "outputs": [
    {
     "name": "stdout",
     "output_type": "stream",
     "text": [
      "Book 'Book1' added to inventory.\n",
      "Book 'Book2' added to inventory.\n",
      "Book 'Book3' added to inventory.\n",
      "\n",
      "Book details:\n",
      "title: Book2\n",
      "author: Author2\n",
      "publication_year: 2019\n",
      "quantity: 15\n",
      "Book not found in inventory.\n",
      "\n",
      "Quantity for book with ISBN 'ISBN2' updated by 3.\n",
      "Book details:\n",
      "title: Book2\n",
      "author: Author2\n",
      "publication_year: 2019\n",
      "quantity: 18\n",
      "Quantity for book with ISBN 'ISBN2' updated by -18.\n",
      "Book details:\n",
      "title: Book2\n",
      "author: Author2\n",
      "publication_year: 2019\n",
      "quantity: 0\n",
      "\n",
      "Book details:\n",
      "title: Book1\n",
      "author: Author1\n",
      "publication_year: 2020\n",
      "quantity: 10\n",
      "Book with ISBN 'ISBN1' removed from inventory.\n",
      "Book not found in inventory.\n",
      "\n",
      "Total number of unique books in inventory: 2\n"
     ]
    }
   ],
   "source": [
    "# Task_V\n",
    "# In developing a program for book inventory management, a dictionary named book_inventory is\n",
    "# initialized to store book records, each represented as a dictionary containing attributes such as\n",
    "# title, author, publication year, and quantity available. Three books are added to the inventory\n",
    "# using unique ISBNs. The program then searches and displays details of a specific book by its\n",
    "# ISBN, updates the quantity available for another book, checks if a new book is already in the\n",
    "# inventory before adding it, removes a book, and finally prints the total number of unique books\n",
    "# in the inventory.\n",
    "\n",
    "book_inventory = {}\n",
    "\n",
    "# Adding book\n",
    "def Add_book(isbn, title, author, publication_year, quantity):\n",
    "    if isbn not in book_inventory:\n",
    "        book_inventory[isbn] = {\n",
    "            'title': title,\n",
    "            'author': author,\n",
    "            'publication_year': publication_year,\n",
    "            'quantity': quantity\n",
    "        }\n",
    "        print(f\"Book '{title}' added to inventory.\")\n",
    "    else:\n",
    "        print(\"Book with this ISBN already exists in inventory.\")\n",
    "\n",
    "Add_book(\"ISBN1\", \"Book1\", \"Author1\", 2020, 10)\n",
    "Add_book(\"ISBN2\", \"Book2\", \"Author2\", 2019, 15)\n",
    "Add_book(\"ISBN3\", \"Book3\", \"Author3\", 2018, 20)\n",
    "\n",
    "print()\n",
    "\n",
    "# Searching book\n",
    "def Search_book(isbn):\n",
    "    if isbn in book_inventory:\n",
    "        print(\"Book details:\")\n",
    "        for key, value in book_inventory[isbn].items():\n",
    "            print(f\"{key}: {value}\")\n",
    "    else:\n",
    "        print(\"Book not found in inventory.\")\n",
    "\n",
    "Search_book('ISBN2')\n",
    "Search_book(\"ISBN4\")\n",
    "print()\n",
    "\n",
    "# Updating quantity\n",
    "def Update_quantity(isbn, q):\n",
    "    if isbn in book_inventory:\n",
    "        book_inventory[isbn]['quantity'] += q\n",
    "        print(f\"Quantity for book with ISBN '{isbn}' updated by {q}.\")\n",
    "    else:\n",
    "        print(\"Book not found in inventory.\")\n",
    "\n",
    "Update_quantity(\"ISBN2\", 3)\n",
    "Search_book('ISBN2')\n",
    "\n",
    "Update_quantity(\"ISBN2\", -18)\n",
    "Search_book('ISBN2')\n",
    "print()\n",
    "\n",
    "# Removing book\n",
    "def Remove_book(isbn):\n",
    "    if isbn in book_inventory:\n",
    "        book_inventory.pop(isbn)\n",
    "        print(f\"Book with ISBN '{isbn}' removed from inventory.\")\n",
    "    else:\n",
    "        print(\"Book not found in inventory.\")\n",
    "\n",
    "Search_book('ISBN1')\n",
    "Remove_book(\"ISBN1\")\n",
    "Search_book('ISBN1')\n",
    "print()\n",
    "\n",
    "# Total unique books\n",
    "def Total_unique_books():\n",
    "    print(f\"Total number of unique books in inventory: {len(book_inventory)}\")\n",
    "\n",
    "Total_unique_books()\n"
   ]
  },
  {
   "cell_type": "code",
   "execution_count": 27,
   "metadata": {
    "colab": {
     "base_uri": "https://localhost:8080/"
    },
    "id": "klY4BYprIzf-",
    "outputId": "e5b76e47-fadb-4f5a-85a0-60f984222337"
   },
   "outputs": [
    {
     "name": "stdout",
     "output_type": "stream",
     "text": [
      "Total number of employees: 2\n",
      "\n",
      "Employee Name: Shaheer\n",
      "Salary: 200000\n",
      "Employee Name: Huzaifa\n",
      "Salary: 150000\n"
     ]
    }
   ],
   "source": [
    "# Task_VI\n",
    "# Create a Class “Employee”, it’s a common base class for all the employees. Then initialize\n",
    "# employee’s parameters like empName and salary and create functions like displayCount()\n",
    "# containing the total number of employees in your knowledge base and displayEmployee()\n",
    "# containing empName and their salary.\n",
    "\n",
    "class Employee:\n",
    "    total = 0\n",
    "\n",
    "    def __init__(self, name, salary):\n",
    "        self.name = name\n",
    "        self.salary = salary\n",
    "        Employee.total += 1\n",
    "\n",
    "    @staticmethod\n",
    "    def displayCount():\n",
    "        print(\"Total number of employees:\", Employee.total)\n",
    "\n",
    "    def displayEmployee(self):\n",
    "        print(\"Employee Name:\", self.name)\n",
    "        print(\"Salary:\", self.salary)\n",
    "\n",
    "emp1 = Employee(\"Shaheer\", 200000)\n",
    "emp2 = Employee(\"Huzaifa\", 150000)\n",
    "\n",
    "Employee.displayCount()\n",
    "print()\n",
    "emp1.displayEmployee()\n",
    "emp2.displayEmployee()"
   ]
  },
  {
   "cell_type": "markdown",
   "metadata": {
    "id": "V4PiT4qGLv0x"
   },
   "source": [
    "**Task VII\n",
    "Write down one real life / game example for each environment type and also specify its agent\n",
    "type.\n",
    "e.g:\n",
    "Crossword puzzle  - Goal based Agent\n",
    "                  - deterministic,fully observable,sequential,discrete,static**\n",
    "\n",
    "1. Game Example - 15 Puzzle Game:\n",
    "    - Environment Type: Fully Observable,\n",
    "Sequential, Discrete, Deterministic, Static\n",
    "    - Agent Type: Goal-Based Agent or Heuristic Search Agent\n",
    "\n",
    "2. Game Example - Counter-Strike: Global Offensive (CS:GO):\n",
    "    - Environment Type: Partially Observable, Sequential, Discrete, Dynamic, Stochastic\n",
    "    - Agent Type: Learning Agent or Model-Based Reflex Agent\n",
    "\n",
    "3. Game Example - eSports Tournament (e.g., League of Legends World Championship):\n",
    "\n",
    "    - Environment Type: Partially Observable, Episodic, Discrete, Dynamic, Stochastic\n",
    "    - Agent Type: Learning Agent or Model-Based Reflex Agent"
   ]
  }
 ],
 "metadata": {
  "colab": {
   "provenance": []
  },
  "kernelspec": {
   "display_name": "Python 3 (ipykernel)",
   "language": "python",
   "name": "python3"
  },
  "language_info": {
   "codemirror_mode": {
    "name": "ipython",
    "version": 3
   },
   "file_extension": ".py",
   "mimetype": "text/x-python",
   "name": "python",
   "nbconvert_exporter": "python",
   "pygments_lexer": "ipython3",
   "version": "3.10.12"
  }
 },
 "nbformat": 4,
 "nbformat_minor": 1
}
