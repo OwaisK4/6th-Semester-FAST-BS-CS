{
 "cells": [
  {
   "cell_type": "markdown",
   "metadata": {
    "id": "kMYNcXSqqvU5"
   },
   "source": [
    "## Q* Learning with FrozenLake 4x4\n",
    "\n",
    "In this Notebook, we'll implement an agent <b>that plays FrozenLake.</b>\n",
    "\n",
    "![alt text](http://simoninithomas.com/drlc/Qlearning/frozenlake4x4.png)"
   ]
  },
  {
   "cell_type": "markdown",
   "metadata": {
    "id": "_1xJ0GaFunFb"
   },
   "source": [
    "Step -1: Install the dependencies on Google Colab"
   ]
  },
  {
   "cell_type": "code",
   "execution_count": 1,
   "metadata": {
    "colab": {
     "base_uri": "https://localhost:8080/"
    },
    "id": "cJJ3hXvGusxu",
    "outputId": "44ae3e03-0609-4363-8d7f-149500ef4dbb"
   },
   "outputs": [
    {
     "name": "stdout",
     "output_type": "stream",
     "text": [
      "Defaulting to user installation because normal site-packages is not writeable\n",
      "Requirement already satisfied: numpy in /home/owaisk4/.local/lib/python3.10/site-packages (1.26.4)\n",
      "Defaulting to user installation because normal site-packages is not writeable\n",
      "Requirement already satisfied: gym in /home/owaisk4/.local/lib/python3.10/site-packages (0.26.2)\n",
      "Requirement already satisfied: numpy>=1.18.0 in /home/owaisk4/.local/lib/python3.10/site-packages (from gym) (1.26.4)\n",
      "Requirement already satisfied: cloudpickle>=1.2.0 in /home/owaisk4/.local/lib/python3.10/site-packages (from gym) (3.0.0)\n",
      "Requirement already satisfied: gym-notices>=0.0.4 in /home/owaisk4/.local/lib/python3.10/site-packages (from gym) (0.0.8)\n"
     ]
    }
   ],
   "source": [
    "!pip install numpy\n",
    "!pip install gym"
   ]
  },
  {
   "cell_type": "markdown",
   "metadata": {
    "id": "vHHZUY9UuzMJ"
   },
   "source": [
    "## Step 0: Import the dependencies 📚\n",
    "We use 3 libraries:\n",
    "- `Numpy` for our Qtable\n",
    "- `OpenAI Gym` for our FrozenLake Environment\n",
    "- `Random` to generate random numbers"
   ]
  },
  {
   "cell_type": "code",
   "execution_count": 24,
   "metadata": {
    "id": "7ilYmjUuu0OR"
   },
   "outputs": [],
   "source": [
    "import numpy as np\n",
    "import gym\n",
    "import random"
   ]
  },
  {
   "cell_type": "markdown",
   "metadata": {
    "id": "qWOxAecFu4ZZ"
   },
   "source": [
    "## Step 1: Create the environment\n",
    "- Here we'll create the FrozenLake 8x8 environment.\n",
    "- OpenAI Gym is a library <b> composed of many environments that we can use to train our agents.</b>\n",
    "- In our case we choose to use Frozen Lake."
   ]
  },
  {
   "cell_type": "code",
   "execution_count": 25,
   "metadata": {
    "id": "cpt-Aa3vu9-C"
   },
   "outputs": [],
   "source": [
    "env = gym.make(\"FrozenLake-v1\")"
   ]
  },
  {
   "cell_type": "markdown",
   "metadata": {
    "id": "Up9-gFsNvBlJ"
   },
   "source": [
    "## Step 2: Create the Q-table and initialize it 🗄️\n",
    "- Now, we'll create our Q-table, to know how much rows (states) and columns (actions) we need, we need to calculate the action_size and the state_size\n",
    "- OpenAI Gym provides us a way to do that: `env.action_space.n` and `env.observation_space.n`"
   ]
  },
  {
   "cell_type": "code",
   "execution_count": 26,
   "metadata": {
    "id": "k2393GROvGFa"
   },
   "outputs": [],
   "source": [
    "action_size = env.action_space.n\n",
    "state_size = env.observation_space.n"
   ]
  },
  {
   "cell_type": "code",
   "execution_count": 27,
   "metadata": {
    "colab": {
     "base_uri": "https://localhost:8080/"
    },
    "id": "sH-VnXIbvND_",
    "outputId": "3b3bfa2f-86ab-4179-da2c-4773856c6d10"
   },
   "outputs": [
    {
     "name": "stdout",
     "output_type": "stream",
     "text": [
      "[[0. 0. 0. 0.]\n",
      " [0. 0. 0. 0.]\n",
      " [0. 0. 0. 0.]\n",
      " [0. 0. 0. 0.]\n",
      " [0. 0. 0. 0.]\n",
      " [0. 0. 0. 0.]\n",
      " [0. 0. 0. 0.]\n",
      " [0. 0. 0. 0.]\n",
      " [0. 0. 0. 0.]\n",
      " [0. 0. 0. 0.]\n",
      " [0. 0. 0. 0.]\n",
      " [0. 0. 0. 0.]\n",
      " [0. 0. 0. 0.]\n",
      " [0. 0. 0. 0.]\n",
      " [0. 0. 0. 0.]\n",
      " [0. 0. 0. 0.]]\n"
     ]
    }
   ],
   "source": [
    "# Create our Q table with state_size rows and action_size columns (64x4)\n",
    "qtable = np.zeros((state_size, action_size))\n",
    "print(qtable)"
   ]
  },
  {
   "cell_type": "markdown",
   "metadata": {
    "id": "VOcXvxnNvnRZ"
   },
   "source": [
    "## Step 3: Create the hyperparameters\n",
    "- Here, we'll specify the hyperparameters"
   ]
  },
  {
   "cell_type": "code",
   "execution_count": 28,
   "metadata": {
    "id": "98QXs2IGv102"
   },
   "outputs": [],
   "source": [
    "total_episodes = 20000       # Total episodes\n",
    "learning_rate = 0.7          # Learning rate\n",
    "max_steps = 99               # Max steps per episode\n",
    "gamma = 0.7                 # Discounting rate\n",
    "\n",
    "# Exploration parameters\n",
    "epsilon = 1.0                 # Exploration rate\n",
    "max_epsilon = 1.0             # Exploration probability at start\n",
    "min_epsilon = 0.01            # Minimum exploration probability\n",
    "decay_rate = 0.5            # Exponential decay rate for exploration prob"
   ]
  },
  {
   "cell_type": "markdown",
   "metadata": {
    "id": "BgNt0TWzwJli"
   },
   "source": [
    "## Step 4: The Q learning algorithm 🧠\n",
    "- Now we implement the Q learning algorithm:\n",
    "  ![alt text](http://simoninithomas.com/drlc/Qlearning//qtable_algo.png)"
   ]
  },
  {
   "cell_type": "code",
   "execution_count": 29,
   "metadata": {
    "colab": {
     "base_uri": "https://localhost:8080/"
    },
    "id": "toifpe6EwKyq",
    "outputId": "e6ada194-6af4-45c3-e4bd-0d1acf5bf2b3"
   },
   "outputs": [
    {
     "name": "stdout",
     "output_type": "stream",
     "text": [
      "Score over time: 0.0\n",
      "[[0. 0. 0. 0.]\n",
      " [0. 0. 0. 0.]\n",
      " [0. 0. 0. 0.]\n",
      " [0. 0. 0. 0.]\n",
      " [0. 0. 0. 0.]\n",
      " [0. 0. 0. 0.]\n",
      " [0. 0. 0. 0.]\n",
      " [0. 0. 0. 0.]\n",
      " [0. 0. 0. 0.]\n",
      " [0. 0. 0. 0.]\n",
      " [0. 0. 0. 0.]\n",
      " [0. 0. 0. 0.]\n",
      " [0. 0. 0. 0.]\n",
      " [0. 0. 0. 0.]\n",
      " [0. 0. 0. 0.]\n",
      " [0. 0. 0. 0.]]\n"
     ]
    }
   ],
   "source": [
    "# List of rewards\n",
    "rewards = []\n",
    "\n",
    "# 2 For life or until learning is stopped\n",
    "for episode in range(total_episodes):\n",
    "    # Reset the environment\n",
    "    state = env.reset()\n",
    "    step = 0\n",
    "    done = False\n",
    "    total_rewards = 0\n",
    "\n",
    "    for step in range(max_steps):\n",
    "        # 3. Choose an action a in the current world state (s)\n",
    "        ## First we randomize a number\n",
    "        exp_exp_tradeoff = random.uniform(0, 1)\n",
    "\n",
    "        ## If this number > greater than epsilon --> exploitation (taking the biggest Q value for this state)\n",
    "        if exp_exp_tradeoff > epsilon:\n",
    "            action = np.argmax(qtable[state,:])\n",
    "            #print(exp_exp_tradeoff, \"action\", action)\n",
    "\n",
    "        # Else doing a random choice --> exploration\n",
    "        else:\n",
    "            action = env.action_space.sample()\n",
    "            #print(\"action random\", action)\n",
    "\n",
    "\n",
    "        # Take the action (a) and observe the outcome state(s') and reward (r)\n",
    "        new_state, reward, done, info = env.step(action)\n",
    "\n",
    "        # Update Q(s,a):= Q(s,a) + lr [R(s,a) + gamma * max Q(s',a') - Q(s,a)]\n",
    "        # qtable[new_state,:] : all the actions we can take from new state\n",
    "        qtable[state, action] = qtable[state, action] + learning_rate * (reward + gamma * np.max(qtable[new_state, :]) - qtable[state, action])\n",
    "\n",
    "        total_rewards += reward\n",
    "\n",
    "        # Our new state is state\n",
    "        state = new_state\n",
    "\n",
    "        # If done (if we're dead) : finish episode\n",
    "        if done == True:\n",
    "            break\n",
    "\n",
    "    # Reduce epsilon (because we need less and less exploration)\n",
    "    epsilon = min_epsilon + (max_epsilon - min_epsilon)*np.exp(-decay_rate*episode)\n",
    "    rewards.append(total_rewards)\n",
    "\n",
    "\n",
    "print (\"Score over time: \" +  str(sum(rewards)/total_episodes))\n",
    "print(qtable)"
   ]
  },
  {
   "cell_type": "markdown",
   "metadata": {
    "id": "wTbug44IwTUr"
   },
   "source": [
    "## Step 5: Use our Q-table to play FrozenLake ! 👾\n",
    "- After 10 000 episodes, our Q-table can be used as a \"cheatsheet\" to play FrozenLake\"\n",
    "- By running this cell you can see our agent playing FrozenLake."
   ]
  },
  {
   "cell_type": "code",
   "execution_count": 30,
   "metadata": {
    "colab": {
     "base_uri": "https://localhost:8080/"
    },
    "id": "QX4r51e4wUh7",
    "outputId": "8f65cc92-2d1f-49e9-bca8-dd36c3230744"
   },
   "outputs": [
    {
     "name": "stdout",
     "output_type": "stream",
     "text": [
      "****************************************************\n",
      "EPISODE  0\n",
      "We fell into a hole ☠️\n",
      "Number of steps 28\n",
      "****************************************************\n",
      "EPISODE  1\n",
      "We fell into a hole ☠️\n",
      "Number of steps 9\n",
      "****************************************************\n",
      "EPISODE  2\n",
      "We fell into a hole ☠️\n",
      "Number of steps 23\n",
      "****************************************************\n",
      "EPISODE  3\n",
      "We fell into a hole ☠️\n",
      "Number of steps 2\n",
      "****************************************************\n",
      "EPISODE  4\n",
      "We fell into a hole ☠️\n",
      "Number of steps 32\n",
      "****************************************************\n",
      "EPISODE  5\n",
      "We fell into a hole ☠️\n",
      "Number of steps 18\n",
      "****************************************************\n",
      "EPISODE  6\n",
      "We fell into a hole ☠️\n",
      "Number of steps 9\n",
      "****************************************************\n",
      "EPISODE  7\n",
      "We fell into a hole ☠️\n",
      "Number of steps 6\n",
      "****************************************************\n",
      "EPISODE  8\n",
      "We fell into a hole ☠️\n",
      "Number of steps 5\n",
      "****************************************************\n",
      "EPISODE  9\n",
      "We fell into a hole ☠️\n",
      "Number of steps 2\n"
     ]
    }
   ],
   "source": [
    "env.reset()\n",
    "\n",
    "for episode in range(10):\n",
    "    state = env.reset()\n",
    "    step = 0\n",
    "    done = False\n",
    "    print(\"****************************************************\")\n",
    "    print(\"EPISODE \", episode)\n",
    "\n",
    "    for step in range(max_steps):\n",
    "\n",
    "        # Take the action (index) that have the maximum expected future reward given that state\n",
    "        action = np.argmax(qtable[state,:])\n",
    "\n",
    "        new_state, reward, done, info = env.step(action)\n",
    "\n",
    "        if done:\n",
    "            # Here, we decide to only print the last state (to see if our agent is on the goal or fall into an hole)\n",
    "            #env.render()\n",
    "            if new_state == 15:\n",
    "                print(\"We reached our Goal 🏆\")\n",
    "            else:\n",
    "                print(\"We fell into a hole ☠️\")\n",
    "\n",
    "            # We print the number of step it took.\n",
    "            print(\"Number of steps\", step)\n",
    "\n",
    "            break\n",
    "        state = new_state\n",
    "env.close()"
   ]
  },
  {
   "cell_type": "markdown",
   "metadata": {
    "id": "Dowvn0-77-fK"
   },
   "source": [
    "## Step 4: The SARSA learning algorithm 🧠\n",
    "- Now we implement the SARSA learning algorithm:\n",
    "![alt text](https://tcnguyen.github.io/reinforcement_learning/images/SARSA_algo.png)\n",
    "\n",
    "\n",
    "nitialize state_action_vals (an array of shape states x actions (16 x 4))\n",
    "Repeat for each episode:\n",
    "    Select action A and state S (epsilon-greedy)\n",
    "    Repeat for each step:\n",
    "        Perform action A, observe reward R and next state S'\n",
    "        Choose next action A' using the current policy Q (epsilon-greedy)\n",
    "        delta = R + gamma * state_action_vals[S'][A'] - state_action_vals[S][A]\n",
    "        state_action_vals[S][A] = state_action_vals[S][A] + alpha * delta\n",
    "        S=S', A=A'\n",
    "until S is terminal"
   ]
  },
  {
   "cell_type": "code",
   "execution_count": null,
   "metadata": {
    "colab": {
     "base_uri": "https://localhost:8080/"
    },
    "id": "KbI_2So29-En",
    "outputId": "7e9255f4-ce66-49c3-fed0-c330213517c2"
   },
   "outputs": [
    {
     "name": "stdout",
     "output_type": "stream",
     "text": [
      "Action space: Discrete(4)\n"
     ]
    }
   ],
   "source": [
    "import random\n",
    "\n",
    "import gym\n",
    "import numpy as np\n",
    "import matplotlib.pyplot as plt\n",
    "\n",
    "\n",
    "env = gym.make('FrozenLake-v1')\n",
    "print(\"Action space:\", env.action_space)\n",
    "#print(\"State space:\", env.env.nS)"
   ]
  },
  {
   "cell_type": "code",
   "execution_count": null,
   "metadata": {
    "colab": {
     "base_uri": "https://localhost:8080/"
    },
    "id": "iCUCrEJYl5qV",
    "outputId": "e5d0c7b6-c0e7-4023-de28-1f838a7c9cc1"
   },
   "outputs": [
    {
     "data": {
      "text/plain": [
       "{0: {0: [(0.3333333333333333, 0, 0.0, False),\n",
       "   (0.3333333333333333, 0, 0.0, False),\n",
       "   (0.3333333333333333, 4, 0.0, False)],\n",
       "  1: [(0.3333333333333333, 0, 0.0, False),\n",
       "   (0.3333333333333333, 4, 0.0, False),\n",
       "   (0.3333333333333333, 1, 0.0, False)],\n",
       "  2: [(0.3333333333333333, 4, 0.0, False),\n",
       "   (0.3333333333333333, 1, 0.0, False),\n",
       "   (0.3333333333333333, 0, 0.0, False)],\n",
       "  3: [(0.3333333333333333, 1, 0.0, False),\n",
       "   (0.3333333333333333, 0, 0.0, False),\n",
       "   (0.3333333333333333, 0, 0.0, False)]},\n",
       " 1: {0: [(0.3333333333333333, 1, 0.0, False),\n",
       "   (0.3333333333333333, 0, 0.0, False),\n",
       "   (0.3333333333333333, 5, 0.0, True)],\n",
       "  1: [(0.3333333333333333, 0, 0.0, False),\n",
       "   (0.3333333333333333, 5, 0.0, True),\n",
       "   (0.3333333333333333, 2, 0.0, False)],\n",
       "  2: [(0.3333333333333333, 5, 0.0, True),\n",
       "   (0.3333333333333333, 2, 0.0, False),\n",
       "   (0.3333333333333333, 1, 0.0, False)],\n",
       "  3: [(0.3333333333333333, 2, 0.0, False),\n",
       "   (0.3333333333333333, 1, 0.0, False),\n",
       "   (0.3333333333333333, 0, 0.0, False)]},\n",
       " 2: {0: [(0.3333333333333333, 2, 0.0, False),\n",
       "   (0.3333333333333333, 1, 0.0, False),\n",
       "   (0.3333333333333333, 6, 0.0, False)],\n",
       "  1: [(0.3333333333333333, 1, 0.0, False),\n",
       "   (0.3333333333333333, 6, 0.0, False),\n",
       "   (0.3333333333333333, 3, 0.0, False)],\n",
       "  2: [(0.3333333333333333, 6, 0.0, False),\n",
       "   (0.3333333333333333, 3, 0.0, False),\n",
       "   (0.3333333333333333, 2, 0.0, False)],\n",
       "  3: [(0.3333333333333333, 3, 0.0, False),\n",
       "   (0.3333333333333333, 2, 0.0, False),\n",
       "   (0.3333333333333333, 1, 0.0, False)]},\n",
       " 3: {0: [(0.3333333333333333, 3, 0.0, False),\n",
       "   (0.3333333333333333, 2, 0.0, False),\n",
       "   (0.3333333333333333, 7, 0.0, True)],\n",
       "  1: [(0.3333333333333333, 2, 0.0, False),\n",
       "   (0.3333333333333333, 7, 0.0, True),\n",
       "   (0.3333333333333333, 3, 0.0, False)],\n",
       "  2: [(0.3333333333333333, 7, 0.0, True),\n",
       "   (0.3333333333333333, 3, 0.0, False),\n",
       "   (0.3333333333333333, 3, 0.0, False)],\n",
       "  3: [(0.3333333333333333, 3, 0.0, False),\n",
       "   (0.3333333333333333, 3, 0.0, False),\n",
       "   (0.3333333333333333, 2, 0.0, False)]},\n",
       " 4: {0: [(0.3333333333333333, 0, 0.0, False),\n",
       "   (0.3333333333333333, 4, 0.0, False),\n",
       "   (0.3333333333333333, 8, 0.0, False)],\n",
       "  1: [(0.3333333333333333, 4, 0.0, False),\n",
       "   (0.3333333333333333, 8, 0.0, False),\n",
       "   (0.3333333333333333, 5, 0.0, True)],\n",
       "  2: [(0.3333333333333333, 8, 0.0, False),\n",
       "   (0.3333333333333333, 5, 0.0, True),\n",
       "   (0.3333333333333333, 0, 0.0, False)],\n",
       "  3: [(0.3333333333333333, 5, 0.0, True),\n",
       "   (0.3333333333333333, 0, 0.0, False),\n",
       "   (0.3333333333333333, 4, 0.0, False)]},\n",
       " 5: {0: [(1.0, 5, 0, True)],\n",
       "  1: [(1.0, 5, 0, True)],\n",
       "  2: [(1.0, 5, 0, True)],\n",
       "  3: [(1.0, 5, 0, True)]},\n",
       " 6: {0: [(0.3333333333333333, 2, 0.0, False),\n",
       "   (0.3333333333333333, 5, 0.0, True),\n",
       "   (0.3333333333333333, 10, 0.0, False)],\n",
       "  1: [(0.3333333333333333, 5, 0.0, True),\n",
       "   (0.3333333333333333, 10, 0.0, False),\n",
       "   (0.3333333333333333, 7, 0.0, True)],\n",
       "  2: [(0.3333333333333333, 10, 0.0, False),\n",
       "   (0.3333333333333333, 7, 0.0, True),\n",
       "   (0.3333333333333333, 2, 0.0, False)],\n",
       "  3: [(0.3333333333333333, 7, 0.0, True),\n",
       "   (0.3333333333333333, 2, 0.0, False),\n",
       "   (0.3333333333333333, 5, 0.0, True)]},\n",
       " 7: {0: [(1.0, 7, 0, True)],\n",
       "  1: [(1.0, 7, 0, True)],\n",
       "  2: [(1.0, 7, 0, True)],\n",
       "  3: [(1.0, 7, 0, True)]},\n",
       " 8: {0: [(0.3333333333333333, 4, 0.0, False),\n",
       "   (0.3333333333333333, 8, 0.0, False),\n",
       "   (0.3333333333333333, 12, 0.0, True)],\n",
       "  1: [(0.3333333333333333, 8, 0.0, False),\n",
       "   (0.3333333333333333, 12, 0.0, True),\n",
       "   (0.3333333333333333, 9, 0.0, False)],\n",
       "  2: [(0.3333333333333333, 12, 0.0, True),\n",
       "   (0.3333333333333333, 9, 0.0, False),\n",
       "   (0.3333333333333333, 4, 0.0, False)],\n",
       "  3: [(0.3333333333333333, 9, 0.0, False),\n",
       "   (0.3333333333333333, 4, 0.0, False),\n",
       "   (0.3333333333333333, 8, 0.0, False)]},\n",
       " 9: {0: [(0.3333333333333333, 5, 0.0, True),\n",
       "   (0.3333333333333333, 8, 0.0, False),\n",
       "   (0.3333333333333333, 13, 0.0, False)],\n",
       "  1: [(0.3333333333333333, 8, 0.0, False),\n",
       "   (0.3333333333333333, 13, 0.0, False),\n",
       "   (0.3333333333333333, 10, 0.0, False)],\n",
       "  2: [(0.3333333333333333, 13, 0.0, False),\n",
       "   (0.3333333333333333, 10, 0.0, False),\n",
       "   (0.3333333333333333, 5, 0.0, True)],\n",
       "  3: [(0.3333333333333333, 10, 0.0, False),\n",
       "   (0.3333333333333333, 5, 0.0, True),\n",
       "   (0.3333333333333333, 8, 0.0, False)]},\n",
       " 10: {0: [(0.3333333333333333, 6, 0.0, False),\n",
       "   (0.3333333333333333, 9, 0.0, False),\n",
       "   (0.3333333333333333, 14, 0.0, False)],\n",
       "  1: [(0.3333333333333333, 9, 0.0, False),\n",
       "   (0.3333333333333333, 14, 0.0, False),\n",
       "   (0.3333333333333333, 11, 0.0, True)],\n",
       "  2: [(0.3333333333333333, 14, 0.0, False),\n",
       "   (0.3333333333333333, 11, 0.0, True),\n",
       "   (0.3333333333333333, 6, 0.0, False)],\n",
       "  3: [(0.3333333333333333, 11, 0.0, True),\n",
       "   (0.3333333333333333, 6, 0.0, False),\n",
       "   (0.3333333333333333, 9, 0.0, False)]},\n",
       " 11: {0: [(1.0, 11, 0, True)],\n",
       "  1: [(1.0, 11, 0, True)],\n",
       "  2: [(1.0, 11, 0, True)],\n",
       "  3: [(1.0, 11, 0, True)]},\n",
       " 12: {0: [(1.0, 12, 0, True)],\n",
       "  1: [(1.0, 12, 0, True)],\n",
       "  2: [(1.0, 12, 0, True)],\n",
       "  3: [(1.0, 12, 0, True)]},\n",
       " 13: {0: [(0.3333333333333333, 9, 0.0, False),\n",
       "   (0.3333333333333333, 12, 0.0, True),\n",
       "   (0.3333333333333333, 13, 0.0, False)],\n",
       "  1: [(0.3333333333333333, 12, 0.0, True),\n",
       "   (0.3333333333333333, 13, 0.0, False),\n",
       "   (0.3333333333333333, 14, 0.0, False)],\n",
       "  2: [(0.3333333333333333, 13, 0.0, False),\n",
       "   (0.3333333333333333, 14, 0.0, False),\n",
       "   (0.3333333333333333, 9, 0.0, False)],\n",
       "  3: [(0.3333333333333333, 14, 0.0, False),\n",
       "   (0.3333333333333333, 9, 0.0, False),\n",
       "   (0.3333333333333333, 12, 0.0, True)]},\n",
       " 14: {0: [(0.3333333333333333, 10, 0.0, False),\n",
       "   (0.3333333333333333, 13, 0.0, False),\n",
       "   (0.3333333333333333, 14, 0.0, False)],\n",
       "  1: [(0.3333333333333333, 13, 0.0, False),\n",
       "   (0.3333333333333333, 14, 0.0, False),\n",
       "   (0.3333333333333333, 15, 1.0, True)],\n",
       "  2: [(0.3333333333333333, 14, 0.0, False),\n",
       "   (0.3333333333333333, 15, 1.0, True),\n",
       "   (0.3333333333333333, 10, 0.0, False)],\n",
       "  3: [(0.3333333333333333, 15, 1.0, True),\n",
       "   (0.3333333333333333, 10, 0.0, False),\n",
       "   (0.3333333333333333, 13, 0.0, False)]},\n",
       " 15: {0: [(1.0, 15, 0, True)],\n",
       "  1: [(1.0, 15, 0, True)],\n",
       "  2: [(1.0, 15, 0, True)],\n",
       "  3: [(1.0, 15, 0, True)]}}"
      ]
     },
     "execution_count": 10,
     "metadata": {},
     "output_type": "execute_result"
    }
   ],
   "source": [
    "env.env.P"
   ]
  },
  {
   "cell_type": "code",
   "execution_count": null,
   "metadata": {
    "id": "mCD8kjoFl8qU"
   },
   "outputs": [],
   "source": [
    "state_size = 16\n",
    "action_space = env.action_space.n\n",
    "alpha = 0.5\n",
    "gamma = 0.7\n",
    "state_action_vals = np.random.randn(state_size, action_space)\n",
    "policy = np.zeros(state_size, dtype=int)\n",
    "episodes = 20000\n",
    "eps = 1\n",
    "test_episodes = 50\n",
    "test_every = 1000\n",
    "test_episode = []\n",
    "rewards = []"
   ]
  },
  {
   "cell_type": "code",
   "execution_count": null,
   "metadata": {
    "id": "yh--MkTdmA3a"
   },
   "outputs": [],
   "source": [
    "def select_action(state, eps):\n",
    "    sample = np.random.uniform()\n",
    "    if sample < eps:\n",
    "        return env.action_space.sample()\n",
    "    else:\n",
    "        return state_action_vals[state].argmax()"
   ]
  },
  {
   "cell_type": "code",
   "execution_count": null,
   "metadata": {
    "id": "2YhljwINmGWk"
   },
   "outputs": [],
   "source": [
    "for ep in range(episodes):\n",
    "    state = env.reset()\n",
    "    action = select_action(state, eps)\n",
    "    done = False\n",
    "    while not done:\n",
    "        next_state, reward, done, _ = env.step(action)\n",
    "        next_action = select_action(state, eps)\n",
    "\n",
    "        action_value = state_action_vals[state, action]\n",
    "        next_action_value = state_action_vals[next_state, next_action]\n",
    "        delta = reward + gamma * next_action_value - action_value\n",
    "        state_action_vals[state, action] += alpha * delta\n",
    "        state, action = next_state, next_action\n",
    "\n",
    "    if ep % test_every == 0:\n",
    "        total_rewards = 0\n",
    "        for _ in range(test_episodes):\n",
    "            done = False\n",
    "            state = env.reset()\n",
    "            while not done:\n",
    "                action = state_action_vals[state].argmax()\n",
    "                state, reward, done, _ = env.step(action)\n",
    "                total_rewards += reward\n",
    "        rewards.append(total_rewards / test_episodes)\n",
    "        test_episode.append(ep)"
   ]
  },
  {
   "cell_type": "code",
   "execution_count": null,
   "metadata": {
    "colab": {
     "base_uri": "https://localhost:8080/",
     "height": 472
    },
    "id": "0dOYVH5NmI0j",
    "outputId": "13d4e60d-d927-40b1-9c3f-15ba6e427568"
   },
   "outputs": [
    {
     "data": {
      "image/png": "[encoded data removed]",
      "text/plain": [
       "<Figure size 640x480 with 1 Axes>"
      ]
     },
     "metadata": {},
     "output_type": "display_data"
    }
   ],
   "source": [
    "fig, ax = plt.subplots()\n",
    "ax.plot(test_episode, rewards)\n",
    "ax.set_title('Episodes vs average rewards')\n",
    "ax.set_xlabel('Episode')\n",
    "_ = ax.set_ylabel('Average reward')"
   ]
  },
  {
   "cell_type": "markdown",
   "metadata": {
    "id": "vcjRaCx6mQGS"
   },
   "source": [
    "As you can see the policy has not converged and the average reward is nowhere near what is required. As the number of episodes $n \\rightarrow \\infty$, the policy will converge to an optimal policy according to the law of large numbers.\n"
   ]
  },
  {
   "cell_type": "markdown",
   "metadata": {
    "id": "jQaeB6w4a1UA"
   },
   "source": [
    "### Example\n",
    "This code implements Q-learning to solve the CartPole-v1 environment from OpenAI Gym, where the goal is to balance a pole on a cart by applying left or right forces.\n",
    "\n",
    "\n",
    "The provided code demonstrates a basic implementation of Q-learning with function approximation (discretization of state space) to solve the CartPole-v1 environment. It follows the standard Q-learning algorithm:\n",
    "- Initializes the Q-table.\n",
    "- Implements Q-learning updates based on observed state transitions and rewards.\n",
    "- Uses an ε-greedy policy for balancing exploration and exploitation.\n",
    "- Decays the exploration rate over episodes.\n",
    "- Collects and plots rewards to visualize the agent's learning progress."
   ]
  },
  {
   "cell_type": "code",
   "execution_count": 19,
   "metadata": {
    "colab": {
     "base_uri": "https://localhost:8080/",
     "height": 663
    },
    "id": "-ceBkBVRMCa5",
    "outputId": "af3e150b-04c5-4ed4-a83f-3285cd5778c6"
   },
   "outputs": [
    {
     "name": "stdout",
     "output_type": "stream",
     "text": [
      "Episode 0: Total Reward = 18.0\n",
      "Episode 100: Total Reward = 17.0\n",
      "Episode 200: Total Reward = 26.0\n",
      "Episode 300: Total Reward = 10.0\n",
      "Episode 400: Total Reward = 200.0\n",
      "Episode 500: Total Reward = 200.0\n",
      "Episode 600: Total Reward = 200.0\n",
      "Episode 700: Total Reward = 34.0\n",
      "Episode 800: Total Reward = 182.0\n",
      "Episode 900: Total Reward = 200.0\n"
     ]
    },
    {
     "data": {
      "image/png": "[encoded data removed]",
      "text/plain": [
       "<Figure size 640x480 with 1 Axes>"
      ]
     },
     "metadata": {},
     "output_type": "display_data"
    },
    {
     "name": "stdout",
     "output_type": "stream",
     "text": [
      "Total reward for test episode: 233.0\n"
     ]
    }
   ],
   "source": [
    "import gym\n",
    "import numpy as np\n",
    "import matplotlib.pyplot as plt\n",
    "\n",
    "# Create the CartPole environment\n",
    "env = gym.make('CartPole-v1')\n",
    "\n",
    "# Parameters for Q-learning\n",
    "num_episodes = 1000\n",
    "max_steps_per_episode = 200\n",
    "learning_rate = 0.1\n",
    "discount_rate = 0.99\n",
    "exploration_rate = 1.0\n",
    "max_exploration_rate = 1.0\n",
    "min_exploration_rate = 0.01\n",
    "exploration_decay_rate = 0.01\n",
    "\n",
    "# Discretization parameters for state space\n",
    "num_buckets = (1, 1, 6, 12)  # Number of buckets for each feature in state space\n",
    "state_bounds = list(zip(env.observation_space.low, env.observation_space.high))\n",
    "state_bounds[1] = [-0.5, 0.5]\n",
    "state_bounds[3] = [-np.radians(50), np.radians(50)]\n",
    "\n",
    "# Initialize Q-table\n",
    "action_space_size = env.action_space.n\n",
    "q_table = np.zeros(num_buckets + (action_space_size,))\n",
    "\n",
    "# Function to discretize the continuous state into discrete buckets\n",
    "def discretize_state(state):\n",
    "    discretized_state = []\n",
    "    for i in range(len(state)):\n",
    "        scaling = (state[i] + abs(state_bounds[i][0])) / (state_bounds[i][1] - state_bounds[i][0])\n",
    "        bucket = int(round((num_buckets[i] - 1) * scaling))\n",
    "        discretized_state.append(min(num_buckets[i] - 1, max(0, bucket)))\n",
    "    return tuple(discretized_state)\n",
    "\n",
    "# List to store rewards\n",
    "rewards_all_episodes = []\n",
    "\n",
    "# Q-learning algorithm\n",
    "for episode in range(num_episodes):\n",
    "    state = env.reset()\n",
    "    state = discretize_state(state)\n",
    "    done = False\n",
    "    total_reward = 0\n",
    "\n",
    "    for step in range(max_steps_per_episode):\n",
    "        # Exploration-exploitation trade-off\n",
    "        exploration_rate_threshold = np.random.uniform(0, 1)\n",
    "        if exploration_rate_threshold > exploration_rate:\n",
    "            action = np.argmax(q_table[state])\n",
    "        else:\n",
    "            action = env.action_space.sample()\n",
    "\n",
    "        # Take action and observe next state and reward\n",
    "        new_state, reward, done, info = env.step(action)\n",
    "        new_state = discretize_state(new_state)\n",
    "\n",
    "        # Update Q-table\n",
    "        best_next_action = np.argmax(q_table[new_state])\n",
    "        q_table[state + (action,)] += learning_rate * (reward + discount_rate * q_table[new_state + (best_next_action,)] - q_table[state + (action,)])\n",
    "\n",
    "        # Transition to next state\n",
    "        state = new_state\n",
    "        total_reward += reward\n",
    "\n",
    "        if done:\n",
    "            break\n",
    "\n",
    "    # Append total reward of current episode\n",
    "    rewards_all_episodes.append(total_reward)\n",
    "\n",
    "    # Decay exploration rate\n",
    "    exploration_rate = min_exploration_rate + \\\n",
    "                        (max_exploration_rate - min_exploration_rate) * np.exp(-exploration_decay_rate * episode)\n",
    "\n",
    "    # Print episode information\n",
    "    if episode % 100 == 0:\n",
    "        print(f\"Episode {episode}: Total Reward = {total_reward}\")\n",
    "\n",
    "# Plotting rewards over episodes\n",
    "plt.plot(np.arange(1, num_episodes + 1), rewards_all_episodes)\n",
    "plt.xlabel('Episode')\n",
    "plt.ylabel('Total Reward')\n",
    "plt.title('Rewards over Episodes')\n",
    "plt.show()\n",
    "\n",
    "# Test the trained agent\n",
    "state = env.reset()\n",
    "state = discretize_state(state)\n",
    "done = False\n",
    "total_reward = 0\n",
    "\n",
    "while not done:\n",
    "    action = np.argmax(q_table[state])\n",
    "    new_state, reward, done, _ = env.step(action)\n",
    "    new_state = discretize_state(new_state)\n",
    "    total_reward += reward\n",
    "    state = new_state\n",
    "\n",
    "print(f\"Total reward for test episode: {total_reward}\")\n",
    "\n",
    "env.close()\n"
   ]
  },
  {
   "cell_type": "markdown",
   "metadata": {
    "id": "gnimRMjvbAqI"
   },
   "source": [
    "\n",
    "### Code Explanation:\n",
    "\n",
    "1. **Import Libraries**:\n",
    "   - `import gym`: Imports the OpenAI Gym library, which provides environments for reinforcement learning.\n",
    "   - `import numpy as np`: Imports NumPy library for numerical computations.\n",
    "   - `import matplotlib.pyplot as plt`: Imports matplotlib for data visualization.\n",
    "\n",
    "2. **Create Environment**:\n",
    "   - `env = gym.make('CartPole-v1')`: Creates the CartPole environment with version 'v1'.\n",
    "\n",
    "3. **Q-Learning Parameters**:\n",
    "   - `num_episodes`: Number of episodes used for training.\n",
    "   - `max_steps_per_episode`: Maximum number of steps allowed per episode.\n",
    "   - `learning_rate`: Learning rate (α) for updating Q-values.\n",
    "   - `discount_rate`: Discount factor (γ) for future rewards.\n",
    "   - `exploration_rate`: Initial exploration rate (ε) for ε-greedy policy.\n",
    "   - `max_exploration_rate`: Maximum exploration rate.\n",
    "   - `min_exploration_rate`: Minimum exploration rate.\n",
    "   - `exploration_decay_rate`: Exploration rate decay factor.\n",
    "\n",
    "4. **Discretization Parameters for State Space**:\n",
    "   - `num_buckets`: Number of discrete buckets for each feature in the state space.\n",
    "   - `state_bounds`: Bounds for each state variable (observation space), adjusted based on the environment's specifications.\n",
    "\n",
    "5. **Initialize Q-Table**:\n",
    "   - `action_space_size`: Number of actions in the action space.\n",
    "   - `q_table`: Initialize the Q-table with zeros, shaped by `num_buckets` and `action_space_size`.\n",
    "\n",
    "6. **Discretize State Function**:\n",
    "   - `discretize_state(state)`: Converts continuous `state` into discrete buckets using the specified `num_buckets` and `state_bounds`.\n",
    "\n",
    "7. **Q-Learning Loop**:\n",
    "   - Iterates through `num_episodes`:\n",
    "     - Resets the environment (`state = env.reset()`).\n",
    "     - Discretizes the initial state (`state = discretize_state(state)`).\n",
    "     - Executes steps within each episode:\n",
    "       - Implements an ε-greedy policy for action selection.\n",
    "       - Observes the next state and reward after taking an action.\n",
    "       - Updates the Q-table using the Q-learning update rule.\n",
    "       - Transitions to the next state and accumulates rewards until the episode terminates (`done=True`).\n",
    "\n",
    "8. **Exploration Rate Decay**:\n",
    "   - Decays the exploration rate (`exploration_rate`) over episodes to gradually shift from exploration to exploitation.\n",
    "\n",
    "9. **Data Collection**:\n",
    "   - Collects the total reward for each episode (`rewards_all_episodes`) for analysis and visualization.\n",
    "\n",
    "10. **Plotting Rewards**:\n",
    "    - Plots the rewards accumulated over episodes using Matplotlib.\n",
    "\n",
    "11. **Testing the Trained Agent**:\n",
    "    - Evaluates the trained agent by running one episode without exploration.\n",
    "    - Calculates the total reward obtained during the test episode.\n",
    "\n",
    "12. **Close the Environment**:\n",
    "    - Closes the CartPole environment after training and testing."
   ]
  },
  {
   "cell_type": "markdown",
   "metadata": {
    "id": "ZywwJXevbSjv"
   },
   "source": [
    "# Q-Learning"
   ]
  },
  {
   "cell_type": "markdown",
   "metadata": {
    "id": "LoQ_uOc4aRVK"
   },
   "source": [
    "Q-learning is a model-free, value-based reinforcement learning algorithm that learns an optimal action-value function \\( Q(s, a) \\) to make decisions in an environment. It is particularly effective for environments with discrete state and action spaces. Q-learning uses the Bellman equation to iteratively update Q-values based on observed transitions and rewards, aiming to maximize the expected cumulative reward.\n",
    "\n",
    "### Overview of Q-Learning Algorithm\n",
    "\n",
    "1. **Initialize Q-Table**: Initialize the Q-table \\( Q(s, a) \\) with zeros or random values for all state-action pairs.\n",
    "\n",
    "2. **Select Action**: Choose an action \\( a \\) using an exploration-exploitation strategy (e.g., ε-greedy) based on the current state \\( s \\).\n",
    "\n",
    "3. **Take Action and Observe Reward**: Execute the chosen action in the environment and observe the resulting reward \\( r \\) and the next state \\( s' \\).\n",
    "\n",
    "4. **Update Q-Value**: Update the Q-value of the current state-action pair using the Bellman equation:\n",
    "   \\[ Q(s, a) \\leftarrow Q(s, a) + \\alpha \\left[ r + \\gamma \\max_{a'} Q(s', a') - Q(s, a) \\right] \\]\n",
    "   where:\n",
    "   - \\( \\alpha \\) (learning rate) controls the rate of learning.\n",
    "   - \\( \\gamma \\) (discount factor) determines the importance of future rewards.\n",
    "\n",
    "5. **Repeat**: Repeat steps 2-4 until convergence or a specified number of episodes."
   ]
  },
  {
   "cell_type": "code",
   "execution_count": 33,
   "metadata": {
    "colab": {
     "base_uri": "https://localhost:8080/"
    },
    "id": "1OGPCViaRTxM",
    "outputId": "3e91c3c4-f1d4-427e-9751-bb126a3211e7"
   },
   "outputs": [
    {
     "name": "stdout",
     "output_type": "stream",
     "text": [
      "Average reward: 0.0\n"
     ]
    }
   ],
   "source": [
    "import gym\n",
    "import numpy as np\n",
    "\n",
    "# Create the FrozenLake environment\n",
    "env = gym.make('FrozenLake-v1')\n",
    "\n",
    "# Initialize Q-table with zeros\n",
    "num_states = env.observation_space.n\n",
    "num_actions = env.action_space.n\n",
    "q_table = np.zeros((num_states, num_actions))\n",
    "\n",
    "# Q-learning parameters\n",
    "learning_rate = 0.8\n",
    "discount_factor = 0.95\n",
    "num_episodes = 1000\n",
    "max_steps_per_episode = 100\n",
    "\n",
    "# Q-learning algorithm\n",
    "for episode in range(num_episodes):\n",
    "    state = env.reset()\n",
    "    for step in range(max_steps_per_episode):\n",
    "        # Choose action using epsilon-greedy policy\n",
    "        if np.random.uniform(0, 1) < 0.2:  # Exploration (20% of the time)\n",
    "            action = env.action_space.sample()\n",
    "        else:  # Exploitation (80% of the time)\n",
    "            action = np.argmax(q_table[state])\n",
    "\n",
    "        # Take action and observe next state and reward\n",
    "        next_state, reward, done, _ = env.step(action)\n",
    "\n",
    "        # Update Q-table\n",
    "        q_table[state, action] = q_table[state, action] * (1 - learning_rate) + \\\n",
    "                                 learning_rate * (reward + discount_factor * np.max(q_table[next_state, :]))\n",
    "\n",
    "        # Move to next state\n",
    "        state = next_state\n",
    "\n",
    "        # Check if episode is done\n",
    "        if done:\n",
    "            break\n",
    "\n",
    "# Test the learned policy\n",
    "num_episodes_test = 100\n",
    "total_rewards = 0\n",
    "\n",
    "for _ in range(num_episodes_test):\n",
    "    state = env.reset()\n",
    "    for _ in range(max_steps_per_episode):\n",
    "        action = np.argmax(q_table[state])\n",
    "        state, reward, done, _ = env.step(action)\n",
    "        total_rewards += reward\n",
    "        if done:\n",
    "            break\n",
    "\n",
    "# Compute average reward\n",
    "average_reward = total_rewards / num_episodes_test\n",
    "print(\"Average reward:\", average_reward)\n",
    "\n",
    "# Close the environment\n",
    "env.close()\n"
   ]
  },
  {
   "cell_type": "markdown",
   "metadata": {
    "id": "p2BQBh3AaCUS"
   },
   "source": [
    "### Explanation:\n",
    "\n",
    "- **Initialization**: We initialize the Q-table (`q_table`) with zeros, where each row corresponds to a state and each column corresponds to an action.\n",
    "\n",
    "- **Q-Learning Parameters**:\n",
    "  - `learning_rate`: Determines how much the Q-values are updated on each iteration.\n",
    "  - `discount_factor`: Balances immediate and future rewards (importance of future rewards).\n",
    "  - `num_episodes`: Number of episodes used for training.\n",
    "  - `max_steps_per_episode`: Maximum number of steps allowed in each episode.\n",
    "\n",
    "- **Q-Learning Loop**:\n",
    "  - We iterate through episodes and for each episode, we reset the environment (`state = env.reset()`).\n",
    "  - Within each episode, we choose actions based on an ε-greedy policy, update the Q-values using the Bellman equation, and move to the next state until the episode terminates (`done=True`).\n",
    "\n",
    "- **Testing the Learned Policy**:\n",
    "  - After training, we evaluate the learned policy by running the agent (`num_episodes_test`) times and computing the average reward obtained.\n",
    "\n",
    "This example demonstrates a basic implementation of Q-learning for the `FrozenLake-v1` environment using the OpenAI Gym library. You can adjust the hyperparameters and exploration-exploitation strategy (`epsilon-greedy`) based on the specific requirements of your problem domain. Q-learning can be extended to more complex environments and variations (e.g., Deep Q-Networks for high-dimensional state spaces) to solve challenging reinforcement learning tasks."
   ]
  },
  {
   "cell_type": "markdown",
   "metadata": {
    "id": "cRhx-nMEaUlb"
   },
   "source": [
    "The REINFORCE algorithm, also known as the Monte Carlo Policy Gradient method, is a popular policy-based reinforcement learning algorithm used for training parameterized policies in environments with discrete or continuous action spaces. It directly learns the policy by optimizing the expected return through gradient ascent.\n",
    "\n",
    "### Overview of REINFORCE Algorithm\n",
    "\n",
    "The REINFORCE algorithm operates by estimating the policy gradient using Monte Carlo sampling of complete episodes. It updates the policy parameters in the direction that increases the expected return. Here are the main steps involved:\n",
    "\n",
    "1. **Initialize Policy Network**: Initialize a parameterized policy network (e.g., a neural network) that maps states to action probabilities.\n",
    "\n",
    "2. **Collect Trajectories**: Interact with the environment using the current policy to collect trajectories (sequences of states, actions, and rewards) until the end of each episode.\n",
    "\n",
    "3. **Compute Returns**: For each time step in the trajectory, compute the return \\(G_t\\), which is the total discounted reward from time step \\(t\\) until the end of the episode.\n",
    "\n",
    "4. **Policy Gradient Calculation**:\n",
    "   - For each time step \\(t\\) in the trajectory, compute the log probability of the selected action under the current policy.\n",
    "   - Multiply the log probability by the return \\(G_t\\), which is the reward obtained after taking that action.\n",
    "   - Accumulate the policy gradient estimates over all trajectories.\n",
    "\n",
    "5. **Update Policy Parameters**: Use the collected policy gradient estimates to update the policy parameters via gradient ascent."
   ]
  },
  {
   "cell_type": "code",
   "execution_count": 32,
   "metadata": {
    "colab": {
     "base_uri": "https://localhost:8080/"
    },
    "id": "FHA6fSAORtIz",
    "outputId": "60117de0-b65f-4e22-ac9a-b80040aca058"
   },
   "outputs": [
    {
     "name": "stdout",
     "output_type": "stream",
     "text": [
      "Episode 50: Average Reward = 14.0\n",
      "Episode 100: Average Reward = 9.0\n",
      "Episode 150: Average Reward = 18.0\n",
      "Episode 200: Average Reward = 21.0\n",
      "Episode 250: Average Reward = 11.0\n",
      "Episode 300: Average Reward = 21.0\n",
      "Episode 350: Average Reward = 17.0\n",
      "Episode 400: Average Reward = 35.0\n",
      "Episode 450: Average Reward = 13.0\n",
      "Episode 500: Average Reward = 12.0\n",
      "Episode 550: Average Reward = 50.0\n",
      "Episode 600: Average Reward = 13.0\n",
      "Episode 650: Average Reward = 43.0\n",
      "Episode 700: Average Reward = 22.0\n",
      "Episode 750: Average Reward = 19.0\n",
      "Episode 800: Average Reward = 15.0\n",
      "Episode 850: Average Reward = 16.0\n",
      "Episode 900: Average Reward = 44.0\n",
      "Episode 950: Average Reward = 16.0\n",
      "Episode 1000: Average Reward = 35.0\n"
     ]
    }
   ],
   "source": [
    "import gym\n",
    "import numpy as np\n",
    "import tensorflow as tf\n",
    "from tensorflow.keras.layers import Dense\n",
    "from tensorflow.keras.optimizers import Adam\n",
    "\n",
    "# Define the Policy Network using a simple feedforward neural network\n",
    "class PolicyNetwork(tf.keras.Model):\n",
    "    def __init__(self, state_size, action_size, hidden_size):\n",
    "        super(PolicyNetwork, self).__init__()\n",
    "        self.fc1 = Dense(hidden_size, activation='relu')\n",
    "        self.fc2 = Dense(action_size, activation='softmax')\n",
    "\n",
    "    def call(self, inputs):\n",
    "        x = self.fc1(inputs)\n",
    "        x = self.fc2(x)\n",
    "        return x\n",
    "\n",
    "# Function to choose action based on policy probabilities\n",
    "def choose_action(state, policy_network):\n",
    "    state = np.expand_dims(state, axis=0)  # Add batch dimension\n",
    "    logits = policy_network(state)\n",
    "\n",
    "    # Apply numerical stability adjustment\n",
    "    epsilon = 1e-6\n",
    "    logits = logits - np.max(logits)  # Subtract maximum value for numerical stability\n",
    "    action_probs = np.exp(logits) / (np.sum(np.exp(logits)) + epsilon)  # Softmax with epsilon\n",
    "\n",
    "    action = np.random.choice(len(action_probs[0]), p=action_probs[0])\n",
    "    return action\n",
    "\n",
    "# Function to compute discounted returns\n",
    "def compute_discounted_returns(rewards, discount_factor):\n",
    "    discounted_returns = np.zeros_like(rewards)\n",
    "    cumulative_return = 0.0\n",
    "    for t in reversed(range(len(rewards))):\n",
    "        cumulative_return = rewards[t] + discount_factor * cumulative_return\n",
    "        discounted_returns[t] = cumulative_return\n",
    "    return discounted_returns\n",
    "\n",
    "# Hyperparameters\n",
    "learning_rate = 0.01\n",
    "discount_factor = 0.99\n",
    "num_episodes = 1000\n",
    "\n",
    "# Create the CartPole environment\n",
    "env = gym.make('CartPole-v1')\n",
    "state_size = env.observation_space.shape[0]\n",
    "action_size = env.action_space.n\n",
    "\n",
    "# Initialize Policy Network\n",
    "policy_network = PolicyNetwork(state_size, action_size, 32)\n",
    "optimizer = Adam(learning_rate)\n",
    "\n",
    "# REINFORCE Training Loop\n",
    "for episode in range(num_episodes):\n",
    "    state = env.reset()\n",
    "    episode_states, episode_actions, episode_rewards = [], [], []\n",
    "\n",
    "    while True:\n",
    "        action = choose_action(state, policy_network)\n",
    "        next_state, reward, done, _ = env.step(action)\n",
    "\n",
    "        episode_states.append(state)\n",
    "        episode_actions.append(action)\n",
    "        episode_rewards.append(reward)\n",
    "\n",
    "        state = next_state\n",
    "\n",
    "        if done:\n",
    "            # Compute discounted returns\n",
    "            discounted_returns = compute_discounted_returns(episode_rewards, discount_factor)\n",
    "\n",
    "            # Convert lists to numpy arrays\n",
    "            episode_states = np.array(episode_states)\n",
    "            episode_actions = np.array(episode_actions)\n",
    "            discounted_returns = np.array(discounted_returns)\n",
    "\n",
    "            with tf.GradientTape() as tape:\n",
    "                # Compute log probabilities of selected actions\n",
    "                logits = policy_network(episode_states)\n",
    "                action_masks = tf.one_hot(episode_actions, action_size)\n",
    "                log_probs = tf.reduce_sum(action_masks * tf.math.log(logits), axis=1)\n",
    "\n",
    "                # Compute policy loss\n",
    "                policy_loss = -tf.reduce_mean(log_probs * discounted_returns)\n",
    "\n",
    "            # Update policy network\n",
    "            gradients = tape.gradient(policy_loss, policy_network.trainable_variables)\n",
    "            optimizer.apply_gradients(zip(gradients, policy_network.trainable_variables))\n",
    "\n",
    "            break\n",
    "\n",
    "    if (episode + 1) % 50 == 0:\n",
    "        print(f\"Episode {episode + 1}: Average Reward = {sum(episode_rewards)}\")\n",
    "\n",
    "# Close the environment\n",
    "env.close()\n"
   ]
  },
  {
   "cell_type": "markdown",
   "metadata": {
    "id": "4WnkI9ZtahRr"
   },
   "source": [
    "\n",
    "\n",
    "### Explanation:\n",
    "\n",
    "- **Policy Network**: We define a `PolicyNetwork` class as a subclass of `tf.keras.Model` that represents a simple feedforward neural network with two fully connected layers (`Dense`) and softmax activation to output action probabilities given a state.\n",
    "\n",
    "- **Choosing Actions**: The `choose_action` function samples an action from the policy network's output probabilities using `np.random.choice`.\n",
    "\n",
    "- **Training Loop**:\n",
    "  - We run a training loop (`for episode in range(num_episodes)`) to collect trajectories (states, actions, rewards) by interacting with the environment.\n",
    "  - After each episode, we compute returns (cumulative discounted rewards) and use these to estimate the policy gradient using the REINFORCE algorithm.\n",
    "  - We compute the policy gradient using TensorFlow's automatic differentiation (`tf.GradientTape`) and update the policy network parameters"
   ]
  },
  {
   "cell_type": "code",
   "execution_count": null,
   "metadata": {
    "id": "M0mMQd5eZFu0"
   },
   "outputs": [],
   "source": []
  }
 ],
 "metadata": {
  "colab": {
   "provenance": []
  },
  "kernelspec": {
   "display_name": "Python 3 (ipykernel)",
   "language": "python",
   "name": "python3"
  },
  "language_info": {
   "codemirror_mode": {
    "name": "ipython",
    "version": 3
   },
   "file_extension": ".py",
   "mimetype": "text/x-python",
   "name": "python",
   "nbconvert_exporter": "python",
   "pygments_lexer": "ipython3",
   "version": "3.10.12"
  }
 },
 "nbformat": 4,
 "nbformat_minor": 1
}
