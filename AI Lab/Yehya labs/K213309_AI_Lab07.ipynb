{
 "cells": [
  {
   "cell_type": "markdown",
   "metadata": {
    "id": "VmWDAwonAlmP"
   },
   "source": [
    "#AI Lab 07\n",
    "K213309 | BCS-6F"
   ]
  },
  {
   "cell_type": "markdown",
   "metadata": {
    "id": "tIm1uwk5Ajxk"
   },
   "source": [
    "##Task 1"
   ]
  },
  {
   "cell_type": "code",
   "execution_count": 4,
   "metadata": {
    "colab": {
     "base_uri": "https://localhost:8080/"
    },
    "id": "VK_uFm2EsfF4",
    "outputId": "1d9ff55f-3e9d-4833-d1cf-4e1cb84a5982"
   },
   "outputs": [
    {
     "name": "stdout",
     "output_type": "stream",
     "text": [
      "[0.15789474 0.31578947 0.52631579]\n",
      "With prob of  0.5263157894736842 The plan with defect is 3\n"
     ]
    }
   ],
   "source": [
    "'''Write Python Program for each task, create sample space and calculate the\n",
    "probability and show the output.\n",
    "A manufacturing firm employs three analytical plans for the design and development of\n",
    "a particular product. For cost reasons, all three are used at varying times. In fact, plans\n",
    "1, 2, and 3 are used for 30%, 20%, and 50% of the products, respectively. The defect\n",
    "rate is different for the three procedures as follows: P(D|P1)=0.01, P(D|P2)=0.03,\n",
    "P(D|P3)=0.02, where P(D|Pj ) is the probability of a defective product, given plan j. If a\n",
    "random product was observed and found to be defective, which plan was most likely\n",
    "used and thus responsible?'''\n",
    "\n",
    "import numpy as np\n",
    "\n",
    "PlanProbs = [0.3,0.2,0.5]\n",
    "DefectProbs = [0.01,0.03,0.02]\n",
    "\n",
    "DefectProbs_np = np.array(DefectProbs)\n",
    "PlanProbs_np = np.array(PlanProbs)\n",
    "\n",
    "DefectChange = DefectProbs_np * PlanProbs_np\n",
    "deno = DefectChange.sum()\n",
    "\n",
    "bayesianPossibility = PlanProbs_np * DefectProbs_np\n",
    "bayesianPossibility2 = bayesianPossibility/deno\n",
    "print(bayesianPossibility2)\n",
    "\n",
    "planNumb = bayesianPossibility2.argmax()\n",
    "print('With prob of ', bayesianPossibility2[planNumb], 'The plan with defect is', planNumb+1)"
   ]
  },
  {
   "cell_type": "markdown",
   "metadata": {
    "id": "H8Gql1erAsNy"
   },
   "source": [
    "##Task 2"
   ]
  },
  {
   "cell_type": "code",
   "execution_count": 5,
   "metadata": {
    "colab": {
     "base_uri": "https://localhost:8080/"
    },
    "id": "6cv_APdQAuTw",
    "outputId": "886cd082-4b32-41a3-da7d-11a0f478dd8f"
   },
   "outputs": [
    {
     "name": "stdout",
     "output_type": "stream",
     "text": [
      "Collecting pomegranate==v0.14.9\n",
      "  Downloading pomegranate-0.14.9.tar.gz (4.7 MB)\n",
      "\u001b[2K     \u001b[90m━━━━━━━━━━━━━━━━━━━━━━━━━━━━━━━━━━━━━━━━\u001b[0m \u001b[32m4.7/4.7 MB\u001b[0m \u001b[31m18.7 MB/s\u001b[0m eta \u001b[36m0:00:00\u001b[0m\n",
      "\u001b[?25h  Installing build dependencies ... \u001b[?25l\u001b[?25hdone\n",
      "  Getting requirements to build wheel ... \u001b[?25l\u001b[?25hdone\n",
      "  Preparing metadata (pyproject.toml) ... \u001b[?25l\u001b[?25hdone\n",
      "\u001b[33mWARNING: Retrying (Retry(total=4, connect=None, read=None, redirect=None, status=None)) after connection broken by 'ProtocolError('Connection aborted.', RemoteDisconnected('Remote end closed connection without response'))': /simple/cython/\u001b[0m\u001b[33m\n",
      "\u001b[0mCollecting cython<3.0.0,>=0.22.1 (from pomegranate==v0.14.9)\n",
      "  Using cached Cython-0.29.37-cp310-cp310-manylinux_2_17_x86_64.manylinux2014_x86_64.manylinux_2_24_x86_64.whl (1.9 MB)\n",
      "Requirement already satisfied: numpy>=1.20.0 in /usr/local/lib/python3.10/dist-packages (from pomegranate==v0.14.9) (1.25.2)\n",
      "Requirement already satisfied: joblib>=0.9.0b4 in /usr/local/lib/python3.10/dist-packages (from pomegranate==v0.14.9) (1.4.0)\n",
      "Requirement already satisfied: networkx>=2.4 in /usr/local/lib/python3.10/dist-packages (from pomegranate==v0.14.9) (3.3)\n",
      "Requirement already satisfied: scipy>=0.17.0 in /usr/local/lib/python3.10/dist-packages (from pomegranate==v0.14.9) (1.11.4)\n",
      "Requirement already satisfied: pyyaml in /usr/local/lib/python3.10/dist-packages (from pomegranate==v0.14.9) (6.0.1)\n",
      "Building wheels for collected packages: pomegranate\n",
      "  Building wheel for pomegranate (pyproject.toml) ... \u001b[?25l\u001b[?25hdone\n",
      "  Created wheel for pomegranate: filename=pomegranate-0.14.9-cp310-cp310-linux_x86_64.whl size=18331536 sha256=78d36d2710f912451874b328617a626b465a82f2f7a3211310cb8629deb52bb5\n",
      "  Stored in directory: /root/.cache/pip/wheels/14/e7/b2/189a2d351ac4ae073cfa17ce9d56936d59af5712a18028fc31\n",
      "Successfully built pomegranate\n",
      "Installing collected packages: cython, pomegranate\n",
      "  Attempting uninstall: cython\n",
      "    Found existing installation: Cython 3.0.10\n",
      "    Uninstalling Cython-3.0.10:\n",
      "      Successfully uninstalled Cython-3.0.10\n",
      "Successfully installed cython-0.29.37 pomegranate-0.14.9\n"
     ]
    }
   ],
   "source": [
    "!pip install pomegranate==v0.14.9"
   ]
  },
  {
   "cell_type": "code",
   "execution_count": 19,
   "metadata": {
    "colab": {
     "base_uri": "https://localhost:8080/"
    },
    "id": "MkPbtcV_CAdn",
    "outputId": "254cebcb-a1a5-4c7e-899f-4d76d571d9a3"
   },
   "outputs": [
    {
     "name": "stdout",
     "output_type": "stream",
     "text": [
      "Probability of Alarm given Malfunction: 0.0015780000000007283\n"
     ]
    }
   ],
   "source": [
    "'''Sarah is a plant manager at a manufacturing facility. She&#39;s concerned about two\n",
    "potential issues that could affect production: a malfunction in one of the machines or a\n",
    "power outage in the area. Sarah relies on two employees, Alex and Emily, to notify her\n",
    "if either event occurs. Alex is diligent and always calls Sarah when he notices a\n",
    "machine malfunction, but occasionally he confuses the sound of the machine with other\n",
    "noises in the factory and calls mistakenly. Emily, on the other hand, tends to get\n",
    "engrossed in her work and sometimes misses the sound of the machine\n",
    "malfunctioning. Given this scenario, we want to calculate the probability of a Machine\n",
    "Malfunction Alarm.'''\n",
    "\n",
    "from pomegranate import *\n",
    "\n",
    "Malfunction = DiscreteDistribution({'True': 0.001, 'False': 0.999})\n",
    "PowerOutage = DiscreteDistribution({'True': 0.002, 'False': 0.998})\n",
    "Alarm = ConditionalProbabilityTable(\n",
    "    [['True', 'True', 'True', 0.95],\n",
    "     ['True', 'True', 'False', 0.05],\n",
    "     ['True', 'False', 'True', 0.94],\n",
    "     ['True', 'False', 'False', 0.06],\n",
    "     ['False', 'True', 'True', 0.29],\n",
    "     ['False', 'True', 'False', 0.71],\n",
    "     ['False', 'False', 'True', 0.001],\n",
    "     ['False', 'False', 'False', 0.999]],\n",
    "    [Malfunction, PowerOutage]\n",
    ")\n",
    "Alex_calls = ConditionalProbabilityTable(\n",
    "    [['True', 'True', 0.9],\n",
    "     ['True', 'False', 0.1],\n",
    "     ['False', 'True', 0.05],\n",
    "     ['False', 'False', 0.95]],\n",
    "    [Alarm]\n",
    ")\n",
    "Emily_calls = ConditionalProbabilityTable(\n",
    "    [['True', 'True', 0.7],\n",
    "     ['True', 'False', 0.3],\n",
    "     ['False', 'True', 0.01],\n",
    "     ['False', 'False', 0.99]],\n",
    "    [Alarm]\n",
    ")\n",
    "\n",
    "s1 = State(Malfunction, name=\"Malfunction\")\n",
    "s2 = State(PowerOutage, name=\"PowerOutage\")\n",
    "s3 = State(Alarm, name=\"Alarm\")\n",
    "s4 = State(Alex_calls, name=\"Alex_calls\")\n",
    "s5 = State(Emily_calls, name=\"Emily_calls\")\n",
    "\n",
    "network = BayesianNetwork(\"Malfunction Alarm\")\n",
    "network.add_states(s1, s2, s3, s4, s5)\n",
    "network.add_edge(s1, s3)\n",
    "network.add_edge(s2, s3)\n",
    "network.add_edge(s3, s4)\n",
    "network.add_edge(s3, s5)\n",
    "network.bake()\n",
    "\n",
    "prob_alarm_given_malfunction = network.predict_proba({'Malfunction': 'False'})[2].parameters[0]['True']\n",
    "print(\"Probability of Alarm given Malfunction:\", prob_alarm_given_malfunction)\n"
   ]
  },
  {
   "cell_type": "markdown",
   "metadata": {
    "id": "yl_wdvdMMIw9"
   },
   "source": [
    "##Task 3"
   ]
  },
  {
   "cell_type": "code",
   "execution_count": 1,
   "metadata": {
    "colab": {
     "base_uri": "https://localhost:8080/"
    },
    "id": "EXK3xnkIMKNK",
    "outputId": "55bd74c4-6068-479b-b0f1-bd4dad56cab4"
   },
   "outputs": [
    {
     "name": "stdout",
     "output_type": "stream",
     "text": [
      "Conditional Probability Table:\n",
      "[{\n",
      "    \"class\" : \"State\",\n",
      "    \"distribution\" : {\n",
      "        \"class\" : \"Distribution\",\n",
      "        \"dtype\" : \"str\",\n",
      "        \"name\" : \"DiscreteDistribution\",\n",
      "        \"parameters\" : [\n",
      "            {\n",
      "                \"gold\" : 1,\n",
      "                \"silver\" : 0\n",
      "            }\n",
      "        ],\n",
      "        \"frozen\" : false\n",
      "    },\n",
      "    \"name\" : \"Box1\",\n",
      "    \"weight\" : 1.0\n",
      "}, {\n",
      "    \"class\" : \"State\",\n",
      "    \"distribution\" : {\n",
      "        \"class\" : \"Distribution\",\n",
      "        \"dtype\" : \"str\",\n",
      "        \"name\" : \"DiscreteDistribution\",\n",
      "        \"parameters\" : [\n",
      "            {\n",
      "                \"gold\" : 0,\n",
      "                \"silver\" : 1\n",
      "            }\n",
      "        ],\n",
      "        \"frozen\" : false\n",
      "    },\n",
      "    \"name\" : \"Box2\",\n",
      "    \"weight\" : 1.0\n",
      "}, {\n",
      "    \"class\" : \"State\",\n",
      "    \"distribution\" : {\n",
      "        \"class\" : \"Distribution\",\n",
      "        \"dtype\" : \"str\",\n",
      "        \"name\" : \"DiscreteDistribution\",\n",
      "        \"parameters\" : [\n",
      "            {\n",
      "                \"gold\" : 0.5,\n",
      "                \"silver\" : 0.5\n",
      "            }\n",
      "        ],\n",
      "        \"frozen\" : false\n",
      "    },\n",
      "    \"name\" : \"Box3\",\n",
      "    \"weight\" : 1.0\n",
      "}]\n",
      "P(Gold | Box1): 1\n",
      "P(Gold | Box2): 0\n",
      "P(Gold | Box3): 0.5\n"
     ]
    }
   ],
   "source": [
    "'''Suppose there are three boxes, each containing two coins. Box 1 has two\n",
    "gold coins, Box 2 has two silver coins, and Box 3 has one gold coin and one silver coin.\n",
    "You randomly pick a box and take out one coin. It turns out to be a gold coin. What is the\n",
    "probability that the other coin in the box is also gold if:\n",
    "\n",
    "(a) You picked Box 1?\n",
    "(b) You picked Box 2?\n",
    "(c) You picked Box 3?\n",
    "\n",
    "Use ‘pomegranate’ and create conditional probability table for each box.'''\n",
    "\n",
    "from pomegranate import *\n",
    "\n",
    "dist_box1 = DiscreteDistribution({'gold': 1, 'silver': 0})\n",
    "dist_box2 = DiscreteDistribution({'gold': 0, 'silver': 1})\n",
    "dist_box3 = DiscreteDistribution({'gold': 0.5, 'silver': 0.5})\n",
    "\n",
    "box1 = State(dist_box1, name='Box1')\n",
    "box2 = State(dist_box2, name='Box2')\n",
    "box3 = State(dist_box3, name='Box3')\n",
    "\n",
    "model = BayesianNetwork('Coin Boxes')\n",
    "model.add_states(box1, box2, box3)\n",
    "\n",
    "model.add_edge(box1, box2)\n",
    "model.add_edge(box1, box3)\n",
    "model.add_edge(box2, box1)\n",
    "model.add_edge(box2, box3)\n",
    "model.add_edge(box3, box1)\n",
    "model.add_edge(box3, box2)\n",
    "model.bake()\n",
    "\n",
    "print(\"Conditional Probability Table:\")\n",
    "print(model.states)\n",
    "for state in model.states:\n",
    "    if state.name.startswith('Box'):\n",
    "        print(f\"P(Gold | {state.name}):\", state.distribution.parameters[0]['gold'])\n"
   ]
  },
  {
   "cell_type": "markdown",
   "metadata": {
    "id": "4yUfs_-PuU8P"
   },
   "source": [
    "##Task 4"
   ]
  },
  {
   "cell_type": "code",
   "execution_count": 1,
   "metadata": {
    "colab": {
     "base_uri": "https://localhost:8080/"
    },
    "id": "CbLU7f3kuT_4",
    "outputId": "90c92b07-1cdf-4280-8c2d-16fb6df3c143"
   },
   "outputs": [
    {
     "name": "stdout",
     "output_type": "stream",
     "text": [
      "Collecting hmmlearn\n",
      "  Downloading hmmlearn-0.3.2-cp310-cp310-manylinux_2_17_x86_64.manylinux2014_x86_64.whl (161 kB)\n",
      "\u001b[2K     \u001b[90m━━━━━━━━━━━━━━━━━━━━━━━━━━━━━━━━━━━━━━━━\u001b[0m \u001b[32m161.1/161.1 kB\u001b[0m \u001b[31m4.8 MB/s\u001b[0m eta \u001b[36m0:00:00\u001b[0m\n",
      "\u001b[?25hRequirement already satisfied: numpy>=1.10 in /usr/local/lib/python3.10/dist-packages (from hmmlearn) (1.25.2)\n",
      "Requirement already satisfied: scikit-learn!=0.22.0,>=0.16 in /usr/local/lib/python3.10/dist-packages (from hmmlearn) (1.2.2)\n",
      "Requirement already satisfied: scipy>=0.19 in /usr/local/lib/python3.10/dist-packages (from hmmlearn) (1.11.4)\n",
      "Requirement already satisfied: joblib>=1.1.1 in /usr/local/lib/python3.10/dist-packages (from scikit-learn!=0.22.0,>=0.16->hmmlearn) (1.4.0)\n",
      "Requirement already satisfied: threadpoolctl>=2.0.0 in /usr/local/lib/python3.10/dist-packages (from scikit-learn!=0.22.0,>=0.16->hmmlearn) (3.4.0)\n",
      "Installing collected packages: hmmlearn\n",
      "Successfully installed hmmlearn-0.3.2\n"
     ]
    }
   ],
   "source": [
    "!pip install hmmlearn"
   ]
  },
  {
   "cell_type": "code",
   "execution_count": 8,
   "metadata": {
    "colab": {
     "base_uri": "https://localhost:8080/"
    },
    "id": "XpV92WoluaDM",
    "outputId": "6629f544-3244-47e1-c0f1-9a41ccd339e4"
   },
   "outputs": [
    {
     "name": "stderr",
     "output_type": "stream",
     "text": [
      "WARNING:hmmlearn.hmm:MultinomialHMM has undergone major changes. The previous version was implementing a CategoricalHMM (a special case of MultinomialHMM). This new implementation follows the standard definition for a Multinomial distribution (e.g. as in https://en.wikipedia.org/wiki/Multinomial_distribution). See these issues for details:\n",
      "https://github.com/hmmlearn/hmmlearn/issues/335\n",
      "https://github.com/hmmlearn/hmmlearn/issues/340\n"
     ]
    },
    {
     "name": "stdout",
     "output_type": "stream",
     "text": [
      "Predicted demand state for solar panels and wind turbines for the next day: Low-demand\n"
     ]
    }
   ],
   "source": [
    "'''Scenario:\n",
    "A company, &quot;Smart Energy Solutions,&quot; specializes in providing renewable energy\n",
    "solutions to households. They offer two types of energy products: solar panels and\n",
    "wind turbines. The demand for these products can fluctuate based on various factors\n",
    "such as weather conditions, government incentives, and consumer preferences. The\n",
    "company wants to use a Hidden Markov Model (HMM) to predict the demand state of\n",
    "each energy product based on historical sales data.\n",
    "Task:\n",
    "The company has collected sales data for a week for both types of energy products:\n",
    "solar panels and wind turbines. Based on this data, they aim to train an HMM to predict\n",
    "the demand state of each product (high-demand or low-demand) and determine the\n",
    "transition and emission probabilities.'''\n",
    "\n",
    "import numpy as np\n",
    "from hmmlearn import hmm\n",
    "\n",
    "solar_panels_sales = [20, 25, 30, 35, 30, 25, 20]\n",
    "wind_turbines_sales = [10, 15, 20, 25, 20, 15, 10]\n",
    "\n",
    "solar_panels_demand = np.array([1 if sales > np.mean(solar_panels_sales) else 0 for sales in solar_panels_sales])\n",
    "wind_turbines_demand = np.array([1 if sales > np.mean(wind_turbines_sales) else 0 for sales in wind_turbines_sales])\n",
    "\n",
    "X = np.column_stack([solar_panels_demand, wind_turbines_demand])\n",
    "\n",
    "model = hmm.MultinomialHMM(n_components=2)\n",
    "model.fit(X)\n",
    "\n",
    "next_day_sales = [22, 28]\n",
    "next_day_demand = np.array([1 if sales > np.mean(next_day_sales) else 0 for sales in next_day_sales])\n",
    "predicted_demand = model.predict(next_day_demand.reshape(1, -1))\n",
    "print(\"Predicted demand state for solar panels and wind turbines for the next day:\", \"High-demand\" if predicted_demand[0] == 1 else \"Low-demand\")\n"
   ]
  },
  {
   "cell_type": "markdown",
   "metadata": {
    "id": "LVPiUb_OyI1W"
   },
   "source": [
    "##Task 5"
   ]
  },
  {
   "cell_type": "code",
   "execution_count": 13,
   "metadata": {
    "colab": {
     "base_uri": "https://localhost:8080/"
    },
    "id": "ElX3LusTyLpC",
    "outputId": "5ae67e07-daf2-44e2-954d-b446cca4d130"
   },
   "outputs": [
    {
     "name": "stderr",
     "output_type": "stream",
     "text": [
      "WARNING:hmmlearn.hmm:MultinomialHMM has undergone major changes. The previous version was implementing a CategoricalHMM (a special case of MultinomialHMM). This new implementation follows the standard definition for a Multinomial distribution (e.g. as in https://en.wikipedia.org/wiki/Multinomial_distribution). See these issues for details:\n",
      "https://github.com/hmmlearn/hmmlearn/issues/335\n",
      "https://github.com/hmmlearn/hmmlearn/issues/340\n",
      "WARNING:hmmlearn.base:Even though the 'startprob_' attribute is set, it will be overwritten during initialization because 'init_params' contains 's'\n",
      "WARNING:hmmlearn.base:Even though the 'transmat_' attribute is set, it will be overwritten during initialization because 'init_params' contains 't'\n"
     ]
    },
    {
     "name": "stdout",
     "output_type": "stream",
     "text": [
      "Inferred sequence of weather states for the week:\n",
      "['Rainy', 'Sunny', 'Rainy', 'Sunny', 'Rainy', 'Sunny', 'Rainy']\n"
     ]
    }
   ],
   "source": [
    "'''Scenario:\n",
    "In a certain town, the weather can either be sunny or rainy. People in this town dress\n",
    "differently based on the weather. On sunny days, they typically wear t-shirts, while on\n",
    "rainy days, they wear jackets to stay dry.\n",
    "Task:\n",
    "We have a record of what people wear for a week but don&#39;t have direct observations of\n",
    "the weather. Based on the clothing worn each day, use a Hidden Markov Model to infer\n",
    "the most likely sequence of weather states (sunny or rainy) for the week.'''\n",
    "\n",
    "import numpy as np\n",
    "from hmmlearn import hmm\n",
    "\n",
    "hidden_states = ['Sunny', 'Rainy']\n",
    "observations = ['T-shirt', 'Jacket']\n",
    "\n",
    "transition_probabilities = np.array([[0.8, 0.2], [0.3, 0.7]])\n",
    "\n",
    "emission_probabilities = np.array([[0.9, 0.1], [0.2, 0.8]])\n",
    "\n",
    "model = hmm.MultinomialHMM(n_components=len(hidden_states))\n",
    "model.startprob_ = np.array([0.5, 0.5])\n",
    "model.transmat_ = transition_probabilities\n",
    "model.emissionprob_ = emission_probabilities\n",
    "\n",
    "observations_sequence = ['T-shirt', 'Jacket', 'T-shirt', 'T-shirt', 'Jacket', 'Jacket', 'Jacket']\n",
    "observations_indices = [observations.index(obs) for obs in observations_sequence]\n",
    "\n",
    "model.fit(np.array(observations_indices).reshape(-1, 1))\n",
    "\n",
    "inferred_states_indices = model.predict(np.array(observations_indices).reshape(-1, 1))\n",
    "inferred_states = [hidden_states[state_index] for state_index in inferred_states_indices]\n",
    "\n",
    "\n",
    "print(\"Inferred sequence of weather states for the week:\")\n",
    "print(inferred_states)\n"
   ]
  }
 ],
 "metadata": {
  "colab": {
   "collapsed_sections": [
    "tIm1uwk5Ajxk",
    "H8Gql1erAsNy",
    "yl_wdvdMMIw9",
    "4yUfs_-PuU8P",
    "LVPiUb_OyI1W"
   ],
   "provenance": []
  },
  "kernelspec": {
   "display_name": "Python 3 (ipykernel)",
   "language": "python",
   "name": "python3"
  },
  "language_info": {
   "codemirror_mode": {
    "name": "ipython",
    "version": 3
   },
   "file_extension": ".py",
   "mimetype": "text/x-python",
   "name": "python",
   "nbconvert_exporter": "python",
   "pygments_lexer": "ipython3",
   "version": "3.10.12"
  }
 },
 "nbformat": 4,
 "nbformat_minor": 1
}
