{
 "cells": [
  {
   "cell_type": "markdown",
   "metadata": {
    "id": "bScjXdGLWXqX"
   },
   "source": [
    "#AI Lab 06\n",
    "K213309 | BSC-6F"
   ]
  },
  {
   "cell_type": "markdown",
   "metadata": {
    "id": "rzpu8yJKWViL"
   },
   "source": [
    "##Task 1"
   ]
  },
  {
   "cell_type": "code",
   "execution_count": 4,
   "metadata": {
    "colab": {
     "base_uri": "https://localhost:8080/"
    },
    "id": "xjk_TuNCWXPF",
    "outputId": "38f2e7f8-c130-4099-98a7-6b0fac618a51"
   },
   "outputs": [
    {
     "name": "stdout",
     "output_type": "stream",
     "text": [
      "-------------\n",
      "| O |   | X |\n",
      "-------------\n",
      "| X |   |   |\n",
      "-------------\n",
      "| X | O | O |\n",
      "-------------\n",
      "-------------\n",
      "| O |   | X |\n",
      "-------------\n",
      "| X | X |   |\n",
      "-------------\n",
      "| X | O | O |\n",
      "-------------\n",
      "Player X wins!\n"
     ]
    }
   ],
   "source": [
    "'''Implement Game Search Algorithm to solve the tic-tac-toe problem mentioned below.'''\n",
    "\n",
    "import math\n",
    "\n",
    "X = \"X\"\n",
    "O = \"O\"\n",
    "EMPTY = None\n",
    "\n",
    "class TicTacToe:\n",
    "    def __init__(self):\n",
    "        self.board = [[O, EMPTY, X],\n",
    "                      [X, EMPTY, EMPTY],\n",
    "                      [X, O, O]]\n",
    "        self.current_player = X\n",
    "        self.game_over = False\n",
    "\n",
    "    def play_game(self):\n",
    "        while not self.game_over:\n",
    "            self.print_board()\n",
    "\n",
    "            winner = self.get_winner()\n",
    "            if winner is not None:\n",
    "                print(f\"Player {winner} wins!\")\n",
    "                self.game_over = True\n",
    "                break\n",
    "            elif all(all(row) for row in self.board):\n",
    "                print(\"Tie game!\")\n",
    "                self.game_over = True\n",
    "                break\n",
    "\n",
    "            if self.current_player == X:\n",
    "                best_score = -math.inf\n",
    "                best_move = None\n",
    "                for i in range(3):\n",
    "                    for j in range(3):\n",
    "                        if self.board[i][j] == EMPTY:\n",
    "                            self.board[i][j] = X\n",
    "                            score = self.minimax(0, False)\n",
    "                            self.board[i][j] = EMPTY\n",
    "                            if score > best_score:\n",
    "                                best_score = score\n",
    "                                best_move = (i, j)\n",
    "                self.board[best_move[0]][best_move[1]] = X\n",
    "            else:\n",
    "                best_score = math.inf\n",
    "                best_move = None\n",
    "                for i in range(3):\n",
    "                    for j in range(3):\n",
    "                        if self.board[i][j] == EMPTY:\n",
    "                            self.board[i][j] = O\n",
    "                            score = self.minimax(0, True)\n",
    "                            self.board[i][j] = EMPTY\n",
    "                            if score < best_score:\n",
    "                                best_score = score\n",
    "                                best_move = (i, j)\n",
    "                self.board[best_move[0]][best_move[1]] = O\n",
    "\n",
    "            self.current_player = O if self.current_player == X else X\n",
    "\n",
    "    def minimax(self, depth, is_maximizing):\n",
    "        winner = self.get_winner()\n",
    "        if winner is not None:\n",
    "            return self.score(depth)\n",
    "\n",
    "        if is_maximizing:\n",
    "            best_score = -math.inf\n",
    "            for i in range(3):\n",
    "                for j in range(3):\n",
    "                    if self.board[i][j] == EMPTY:\n",
    "                        self.board[i][j] = X\n",
    "                        score = self.minimax(depth+1, False)\n",
    "                        self.board[i][j] = EMPTY\n",
    "                        best_score = max(score, best_score)\n",
    "            return best_score\n",
    "\n",
    "        else:\n",
    "            best_score = math.inf\n",
    "            for i in range(3):\n",
    "                for j in range(3):\n",
    "                    if self.board[i][j] == EMPTY:\n",
    "                        self.board[i][j] = O\n",
    "                        score = self.minimax(depth+1, True)\n",
    "                        self.board[i][j] = EMPTY\n",
    "                        best_score = min(score, best_score)\n",
    "            return best_score\n",
    "\n",
    "    def get_winner(self):\n",
    "        for i in range(3):\n",
    "            if self.board[i][0] == self.board[i][1] == self.board[i][2] != EMPTY:\n",
    "                return self.board[i][0]\n",
    "\n",
    "        for j in range(3):\n",
    "            if self.board[0][j] == self.board[1][j] == self.board[2][j] != EMPTY:\n",
    "                return self.board[0][j]\n",
    "\n",
    "        if self.board[0][0] == self.board[1][1] == self.board[2][2] != EMPTY:\n",
    "            return self.board[0][0]\n",
    "        if self.board[0][2] == self.board[1][1] == self.board[2][0] != EMPTY:\n",
    "            return self.board[0][2]\n",
    "\n",
    "        return None\n",
    "\n",
    "    def score(self, depth):\n",
    "        winner = self.get_winner()\n",
    "        if winner == X:\n",
    "            return 10 - depth\n",
    "        elif winner == O:\n",
    "            return depth - 10\n",
    "        else:\n",
    "            return 0\n",
    "\n",
    "    def print_board(self):\n",
    "        print(\"-------------\")\n",
    "        for row in self.board:\n",
    "            print(\"|\", end=\"\")\n",
    "            for cell in row:\n",
    "                if cell is None:\n",
    "                    print(\"   \", end=\"|\")\n",
    "                else:\n",
    "                    print(f\" {cell} \", end=\"|\")\n",
    "            print(\"\\n-------------\")\n",
    "\n",
    "game = TicTacToe()\n",
    "game.play_game()"
   ]
  },
  {
   "cell_type": "markdown",
   "metadata": {
    "id": "tG29Fg6dWeH7"
   },
   "source": []
  },
  {
   "cell_type": "markdown",
   "metadata": {
    "id": "1RjWH1sAWSvh"
   },
   "source": [
    "##Task 2"
   ]
  },
  {
   "cell_type": "code",
   "execution_count": 5,
   "metadata": {
    "colab": {
     "base_uri": "https://localhost:8080/"
    },
    "id": "IfMK1ZYXWUiz",
    "outputId": "3133323b-de5e-4c3e-c729-638dcda7a3e7"
   },
   "outputs": [
    {
     "name": "stdout",
     "output_type": "stream",
     "text": [
      "Pruned node:  6\n",
      "Pruned node:  2\n",
      "Minimax values: \n",
      "A:  4\n",
      "B:  4\n",
      "C:  2\n",
      "D:  4\n",
      "E:  6\n",
      "F:  2\n",
      "G:  G\n"
     ]
    }
   ],
   "source": [
    "'''Solve the below tree by using alpha-beta pruning method.'''\n",
    "\n",
    "import math\n",
    "\n",
    "class Node:\n",
    "  def __init__(self, value=None):\n",
    "    self.value = value\n",
    "    self.children = []\n",
    "\n",
    "def alpha_beta(node, depth, alpha, beta, maximizing_player=True):\n",
    "  if depth == 0 or not node.children:\n",
    "    return node.value\n",
    "  if maximizing_player:\n",
    "    value = -math.inf\n",
    "    for child in node.children:\n",
    "      value = max(value, alpha_beta(child, depth-1, alpha, beta, False))\n",
    "      alpha = max(alpha, value)\n",
    "      if beta <= alpha:\n",
    "        print('Pruned node: ', child.value)\n",
    "        break\n",
    "    node.value = value\n",
    "    return value\n",
    "  else:\n",
    "    value = math.inf\n",
    "    for child in node.children:\n",
    "      value = min(value, alpha_beta(child, depth-1, alpha, beta, True))\n",
    "      beta = min(beta, value)\n",
    "      if beta < alpha:\n",
    "        print('Pruned node: ', child.value)\n",
    "        break\n",
    "    node.value = value\n",
    "    return value\n",
    "\n",
    "root = Node('A')\n",
    "n1 = Node('B')\n",
    "n2 = Node('C')\n",
    "root.children = [n1, n2]\n",
    "n3 = Node('D')\n",
    "n4 = Node('E')\n",
    "n5 = Node('F')\n",
    "n6 = Node('G')\n",
    "n1.children = [n3, n4]\n",
    "n2.children = [n5, n6]\n",
    "n7 = Node(2)\n",
    "n8 = Node(4)\n",
    "n9 = Node(6)\n",
    "n10 = Node(8)\n",
    "n3.children = [n7, n8]\n",
    "n4.children = [n9, n10]\n",
    "n11 = Node(1)\n",
    "n12 = Node(2)\n",
    "n13 = Node(10)\n",
    "n14 = Node(12)\n",
    "n5.children = [n11, n12]\n",
    "n6.children = [n13, n14]\n",
    "# Example usage\n",
    "\n",
    "alpha_beta(root, 3, -math.inf, math.inf)\n",
    "print('Minimax values: ')\n",
    "print('A: ', root.value)\n",
    "print('B: ', n1.value)\n",
    "print('C: ', n2.value)\n",
    "print('D: ', n3.value)\n",
    "print('E: ', n4.value)\n",
    "print('F: ', n5.value)\n",
    "print('G: ', n6.value)"
   ]
  },
  {
   "cell_type": "markdown",
   "metadata": {
    "id": "zDK1GM2pWNvA"
   },
   "source": [
    "##Task 3"
   ]
  },
  {
   "cell_type": "code",
   "execution_count": 7,
   "metadata": {
    "colab": {
     "base_uri": "https://localhost:8080/"
    },
    "id": "9q9QMIDIkCfN",
    "outputId": "5f131c2e-ea1e-4e73-cb6b-cf6152f35246"
   },
   "outputs": [
    {
     "name": "stdout",
     "output_type": "stream",
     "text": [
      "Collecting python-constraint\n",
      "  Downloading python-constraint-1.4.0.tar.bz2 (18 kB)\n",
      "  Preparing metadata (setup.py) ... \u001b[?25l\u001b[?25hdone\n",
      "Building wheels for collected packages: python-constraint\n",
      "  Building wheel for python-constraint (setup.py) ... \u001b[?25l\u001b[?25hdone\n",
      "  Created wheel for python-constraint: filename=python_constraint-1.4.0-py2.py3-none-any.whl size=24058 sha256=797fab7ae0b8844646f823cc96a2a45db1f6e46426d1e952025cfe0d14127147\n",
      "  Stored in directory: /root/.cache/pip/wheels/2e/f2/2b/cb08b5fe129e4f69b7033061f256e5c551b0aa1160c2872aee\n",
      "Successfully built python-constraint\n",
      "Installing collected packages: python-constraint\n",
      "Successfully installed python-constraint-1.4.0\n"
     ]
    }
   ],
   "source": [
    "!pip install python-constraint"
   ]
  },
  {
   "cell_type": "code",
   "execution_count": 8,
   "metadata": {
    "colab": {
     "base_uri": "https://localhost:8080/"
    },
    "id": "mvW1oYwpe_rP",
    "outputId": "8311ecd8-a431-48ad-82e7-91f004af3ef0"
   },
   "outputs": [
    {
     "name": "stdout",
     "output_type": "stream",
     "text": [
      "4-Queen Problem Solution:\n",
      "⬛♕⬛⬜\n",
      "⬜⬛⬜♕\n",
      "♕⬜⬛⬜\n",
      "⬜⬛♕⬛\n",
      "\n",
      "5-Queen Problem Solution:\n",
      "⬛♕⬛⬜⬛\n",
      "⬜⬛⬜♕⬜\n",
      "♕⬜⬛⬜⬛\n",
      "⬜⬛♕⬛⬜\n",
      "⬛⬜⬛⬜♕\n",
      "\n"
     ]
    }
   ],
   "source": [
    "'''Implement N-Queen Problem in Constraint Satisfaction Problem.'''\n",
    "\n",
    "from constraint import *\n",
    "import math\n",
    "\n",
    "def MovementCheck(pos, vertical = 0, Diagonal = 0):\n",
    "    for p1 in range(len(pos)):\n",
    "      for p2 in range(len(pos)):\n",
    "        if p1 == p2:\n",
    "          continue\n",
    "        if Diagonal:\n",
    "          if abs(pos[p1][0] - pos[p2][0]) == abs(pos[p1][1] - pos[p2][1]):\n",
    "            return True\n",
    "        elif pos[p1][vertical] == pos[p2][vertical]:\n",
    "          return True\n",
    "    return False\n",
    "\n",
    "def inRange(*pos):\n",
    "  return False if (MovementCheck(pos, 0, 0) or MovementCheck(pos, 1, 0)) else False if (MovementCheck(pos, 0, 1)) else True\n",
    "\n",
    "class NQueenCSPSolver:\n",
    "  def __init__(self, N=4):\n",
    "    self.N = N\n",
    "    self.problem = Problem()\n",
    "    self.problem.reset()\n",
    "    self.sol = ''\n",
    "    self.board = []\n",
    "    self.resetBoard()\n",
    "\n",
    "  def Solve(self):\n",
    "    self.sol = ''\n",
    "    if self.N < 4:\n",
    "      print('No Possible Solution for N < 4!')\n",
    "      return\n",
    "    self.problem.addVariables(range(self.N), [(i,j) for i in range(self.N) for j in range(self.N)])\n",
    "    for _ in range(self.N):\n",
    "      for _ in range(self.N):\n",
    "        self.problem.addConstraint(inRange, range(self.N))\n",
    "    self.sol = self.problem.getSolutions()\n",
    "    self.problem.reset()\n",
    "\n",
    "  def resetBoard(self):\n",
    "    self.board= [['⬜' if (j+i%2)%2 else '⬛' for j in range(self.N)] for i in range(self.N)]\n",
    "\n",
    "  def displaySolution(self):\n",
    "    s = self.sol[0]\n",
    "    for i in s:\n",
    "      self.board[s[i][0]][s[i][1]] = '♕'\n",
    "    print(f'{self.N}-Queen Problem Solution:')\n",
    "    for i in self.board:\n",
    "      print(''.join(i))\n",
    "    self.resetBoard()\n",
    "    print()\n",
    "\n",
    "x = NQueenCSPSolver(4)\n",
    "x.Solve()\n",
    "x.displaySolution()\n",
    "\n",
    "x = NQueenCSPSolver(5)\n",
    "x.Solve()\n",
    "x.displaySolution()"
   ]
  },
  {
   "cell_type": "markdown",
   "metadata": {
    "id": "HOHJYb6KWhL_"
   },
   "source": [
    "##Task 4"
   ]
  },
  {
   "cell_type": "code",
   "execution_count": 9,
   "metadata": {
    "colab": {
     "base_uri": "https://localhost:8080/"
    },
    "id": "6AkK21TGWjfb",
    "outputId": "3d537f51-3dae-4a8b-e4f3-960971e79201"
   },
   "outputs": [
    {
     "name": "stdout",
     "output_type": "stream",
     "text": [
      "Number of solutions found: 1\n",
      "\n",
      "B = 7, A = 4, S = 8, E = 3, L = 5, G = 1, M = 9\n"
     ]
    }
   ],
   "source": [
    "'''Solve Below Cryptarithmetic Problem'''\n",
    "\n",
    "import constraint\n",
    "\n",
    "problem = constraint.Problem()\n",
    "\n",
    "problem.addVariables(\"BG\", range(1, 10))\n",
    "problem.addVariables(\"ASELM\", range(10))\n",
    "\n",
    "def sum_constraint(b,a,s,e,l,g,m):\n",
    "    if (b*1000 + a*100 + s*10 + e) + (b*1000 + a*100 + l*10 + l) == g*10000 + a*1000 + m*100 + e*10 + s:\n",
    "        return True\n",
    "\n",
    "problem.addConstraint(sum_constraint, \"BASELGM\")\n",
    "problem.addConstraint(constraint.AllDifferentConstraint())\n",
    "\n",
    "solutions = problem.getSolutions()\n",
    "print(f\"Number of solutions found: {len(solutions)}\\n\")\n",
    "\n",
    "for s in solutions:\n",
    "    print(f\"B = {s['B']}, A = {s['A']}, S = {s['S']}, E = {s['E']}, L = {s['L']}, G = {s['G']}, M = {s['M']}\")"
   ]
  }
 ],
 "metadata": {
  "colab": {
   "collapsed_sections": [
    "rzpu8yJKWViL",
    "1RjWH1sAWSvh"
   ],
   "provenance": []
  },
  "kernelspec": {
   "display_name": "Python 3 (ipykernel)",
   "language": "python",
   "name": "python3"
  },
  "language_info": {
   "codemirror_mode": {
    "name": "ipython",
    "version": 3
   },
   "file_extension": ".py",
   "mimetype": "text/x-python",
   "name": "python",
   "nbconvert_exporter": "python",
   "pygments_lexer": "ipython3",
   "version": "3.10.12"
  }
 },
 "nbformat": 4,
 "nbformat_minor": 1
}
