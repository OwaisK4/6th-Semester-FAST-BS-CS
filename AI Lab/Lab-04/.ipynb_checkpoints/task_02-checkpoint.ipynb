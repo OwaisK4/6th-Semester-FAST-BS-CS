{
 "cells": [
  {
   "cell_type": "code",
   "execution_count": 39,
   "id": "36e6b777",
   "metadata": {},
   "outputs": [],
   "source": [
    "import sys\n",
    "from collections import deque\n",
    "from queue import PriorityQueue\n",
    "\n",
    "\n",
    "class Search:\n",
    "    def __init__(\n",
    "        self,\n",
    "        graph: dict[str, list[tuple[str, int]]] = None,\n",
    "    ) -> None:\n",
    "        self.graph = graph\n",
    "        # In the format: distances[src] = [(dest1, distance), (dest2, distance)]\n",
    "        self.visited = set()\n",
    "        \n",
    "\n",
    "        \n",
    "    def DFS_on_graph(self,\n",
    "        src: str\n",
    "    ) -> None:\n",
    "        self.visited.add(src)\n",
    "        print(f\"{src} -> \", end=\"\")\n",
    "        for dest, dist in self.graph[src]:\n",
    "            if not dest in self.visited:\n",
    "                self.DFS_on_graph(dest)\n",
    "    \n",
    "    def DFS_on_tree(self,\n",
    "        src: str,\n",
    "        parent: :str = None\n",
    "    ) -> None:\n",
    "        print(f\"{src} -> \", end=\"\")\n",
    "        for dest, dist in self.graph[src]:\n",
    "            if dest != parent:\n",
    "                self.DFS_on_tree(dest, src)"
   ]
  },
  {
   "cell_type": "code",
   "execution_count": 26,
   "id": "8a55c01d",
   "metadata": {},
   "outputs": [],
   "source": [
    "raw_graph = \"\"\"Oradea,Zerind,71\n",
    "Oradea,Sibiu,151\n",
    "Zerind,Arad,75\n",
    "Arad,Sibiu,140\n",
    "Arad,Timisoara,118\n",
    "Timisoara,Lugoj,111\n",
    "Lugoj,Mehadia,70\n",
    "Mehadia,Drobeta,75\n",
    "Drobeta,Craiova,120\n",
    "Sibiu,Rimnicu Vilcea,80\n",
    "Sibiu,Fagaras,99\n",
    "Rimnicu Vilcea,Craiova,146\n",
    "Rimnicu Vilcea,Pitesti,97\n",
    "Craiova,Pitesti,138\n",
    "Pitesti,Bucharest,101\n",
    "Fagaras,Bucharest,211\n",
    "Bucharest,Giurgiu,90\n",
    "Bucharest,Urziceni,85\n",
    "Urziceni,Vaslui,142\n",
    "Urziceni,Hirsova,98\n",
    "Hirsova,Eforie,86\n",
    "Vaslui,Iasi,92\n",
    "Iasi,Neamt,87\"\"\"\n",
    "graph = {}\n",
    "for i in raw_graph.split(\"\\n\"):\n",
    "    try:\n",
    "        src, dest, value = i.split(\",\")\n",
    "        value = int(value)\n",
    "        graph.setdefault(src, [])\n",
    "        graph[src].append((dest, value))\n",
    "        graph.setdefault(dest, [])\n",
    "        graph[dest].append((src, value))\n",
    "    except:\n",
    "        print(\"Malformed data in distances file.\")\n",
    "        sys.exit()\n",
    "# print(distances)"
   ]
  },
  {
   "cell_type": "code",
   "execution_count": 40,
   "id": "ca93de66",
   "metadata": {},
   "outputs": [
    {
     "name": "stdout",
     "output_type": "stream",
     "text": [
      "Arad -> Zerind -> Oradea -> Sibiu -> Rimnicu Vilcea -> Craiova -> Drobeta -> Mehadia -> Lugoj -> Timisoara -> Pitesti -> Bucharest -> Fagaras -> Giurgiu -> Urziceni -> Vaslui -> Iasi -> Neamt -> Hirsova -> Eforie -> "
     ]
    }
   ],
   "source": [
    "searcher = Search(distances)\n",
    "searcher.DFS_on_graph(\"Arad\")"
   ]
  }
 ],
 "metadata": {
  "kernelspec": {
   "display_name": "Python 3 (ipykernel)",
   "language": "python",
   "name": "python3"
  },
  "language_info": {
   "codemirror_mode": {
    "name": "ipython",
    "version": 3
   },
   "file_extension": ".py",
   "mimetype": "text/x-python",
   "name": "python",
   "nbconvert_exporter": "python",
   "pygments_lexer": "ipython3",
   "version": "3.10.12"
  }
 },
 "nbformat": 4,
 "nbformat_minor": 5
}
