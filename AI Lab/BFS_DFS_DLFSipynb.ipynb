{
 "cells": [
  {
   "cell_type": "code",
   "execution_count": 13,
   "metadata": {
    "colab": {
     "base_uri": "https://localhost:8080/"
    },
    "id": "kssdDho8OdXb",
    "outputId": "ded6a9d2-7512-449b-b180-d14bf05cf9d0"
   },
   "outputs": [
    {
     "name": "stdout",
     "output_type": "stream",
     "text": [
      "Steps to get from bedroom to TV lounge :\n",
      "Step 1: Go to bedroom\n",
      "Step 2: Go to Study room\n",
      "Step 3: Go to TV lounge\n"
     ]
    }
   ],
   "source": [
    "from collections import deque\n",
    "\n",
    "def bfs(graph, start, goal):\n",
    "  # Start exploring from the starting room and keep track of the path\n",
    "    queue = deque([(start, [start])])\n",
    "    # Keep track of visited rooms\n",
    "    visited = set()\n",
    "\n",
    "    while queue:\n",
    "      # Take the first room and its path from the queue\n",
    "        current_room, path = queue.popleft()\n",
    "        if current_room == goal:\n",
    "          # We found the goal! Return the path\n",
    "            return path\n",
    "        if current_room not in visited:\n",
    "          # Mark the room as visited\n",
    "            visited.add(current_room)\n",
    "            for neighbor in graph[current_room]:\n",
    "              # Add connected rooms to the queue along with the updated path\n",
    "                queue.append((neighbor, path + [neighbor]))\n",
    "    # We couldn't find the goal\n",
    "    return None\n",
    "\n",
    "# Define the house layout\n",
    "house = {\n",
    "    'bedroom': ['Study room', 'living room'],\n",
    "    'Study room': ['bedroom', 'TV lounge'],\n",
    "    'living room': ['bedroom', 'kitchen'],\n",
    "    'kitchen': ['room', 'living room']\n",
    "}\n",
    "\n",
    "start_room = 'bedroom'\n",
    "goal_room = 'TV lounge'\n",
    "\n",
    "# Find the path from the start room to the goal room using BFS\n",
    "path = bfs(house, start_room, goal_room)\n",
    "\n",
    "# Print the path if found\n",
    "if path:\n",
    "    print(\"Steps to get from\", start_room, \"to\", goal_room, \":\")\n",
    "    for i, room in enumerate(path):\n",
    "        print(f\"Step {i+1}: Go to {room}\")\n",
    "else:\n",
    "    print(\"You got lost! Couldn't find the kitchen.\")\n"
   ]
  },
  {
   "cell_type": "code",
   "execution_count": 16,
   "metadata": {
    "colab": {
     "base_uri": "https://localhost:8080/"
    },
    "id": "7Bnizj1CPwnL",
    "outputId": "0cd3c29f-5f9b-464d-da78-42afd2674d3f"
   },
   "outputs": [
    {
     "name": "stdout",
     "output_type": "stream",
     "text": [
      "BFS traversal of the tree:\n",
      "[1, 2, 3, 4, 5, 6, 7]\n"
     ]
    }
   ],
   "source": [
    "from collections import deque\n",
    "\n",
    "class TreeNode:\n",
    "    def __init__(self, value):\n",
    "        self.value = value\n",
    "        self.left = None\n",
    "        self.right = None\n",
    "\n",
    "def bfs_tree(root):\n",
    "    if not root:\n",
    "        return []\n",
    "\n",
    "    result = []\n",
    "    queue = deque([root])\n",
    "\n",
    "    while queue:\n",
    "        node = queue.popleft()\n",
    "        result.append(node.value)\n",
    "\n",
    "        if node.left:\n",
    "            queue.append(node.left)\n",
    "        if node.right:\n",
    "            queue.append(node.right)\n",
    "\n",
    "    return result\n",
    "\n",
    "# Example\n",
    "# Constructing a binary tree\n",
    "#         1\n",
    "#       /   \\\n",
    "#      2     3\n",
    "#     / \\   / \\\n",
    "#    4   5 6   7\n",
    "root = TreeNode(1)\n",
    "root.left = TreeNode(2)\n",
    "root.right = TreeNode(3)\n",
    "root.left.left = TreeNode(4)\n",
    "root.left.right = TreeNode(5)\n",
    "root.right.left = TreeNode(6)\n",
    "root.right.right = TreeNode(7)\n",
    "\n",
    "print(\"BFS traversal of the tree:\")\n",
    "print(bfs_tree(root))\n"
   ]
  },
  {
   "cell_type": "markdown",
   "metadata": {
    "id": "dCdKdfW3VTNU"
   },
   "source": [
    "Explanation\n",
    "\n",
    "- We define a `TreeNode` class to represent each node in the tree. Each node has a value and references to its left and right children.\n",
    "- The `bfs_tree` function takes the root of the tree as input and performs a Breadth First Search traversal.\n",
    "- We use a deque to maintain the queue for BFS traversal.\n",
    "- We start the traversal from the root node and add it to the queue.\n",
    "- While the queue is not empty, we dequeue a node, append its value to the result list, and enqueue its left and right children if they exist.\n",
    "- Finally, we return the result list containing the BFS traversal order of the tree."
   ]
  },
  {
   "cell_type": "code",
   "execution_count": 17,
   "metadata": {
    "colab": {
     "base_uri": "https://localhost:8080/"
    },
    "id": "3QTI_yfzVUmw",
    "outputId": "9d775afa-405f-4b8b-dacb-722485b77f81"
   },
   "outputs": [
    {
     "name": "stdout",
     "output_type": "stream",
     "text": [
      "DFS traversal of the tree:\n",
      "[1, 2, 4, 5, 3, 6, 7]\n"
     ]
    }
   ],
   "source": [
    "class TreeNode:\n",
    "    def __init__(self, value):\n",
    "        self.value = value\n",
    "        self.left = None\n",
    "        self.right = None\n",
    "\n",
    "def dfs_tree(root):\n",
    "    if not root:\n",
    "        return []\n",
    "\n",
    "    result = []\n",
    "\n",
    "    def dfs(node):\n",
    "        if not node:\n",
    "            return\n",
    "        result.append(node.value)\n",
    "        dfs(node.left)\n",
    "        dfs(node.right)\n",
    "\n",
    "    dfs(root)\n",
    "    return result\n",
    "\n",
    "# Example\n",
    "# Constructing a binary tree\n",
    "#         1\n",
    "#       /   \\\n",
    "#      2     3\n",
    "#     / \\   / \\\n",
    "#    4   5 6   7\n",
    "root = TreeNode(1)\n",
    "root.left = TreeNode(2)\n",
    "root.right = TreeNode(3)\n",
    "root.left.left = TreeNode(4)\n",
    "root.left.right = TreeNode(5)\n",
    "root.right.left = TreeNode(6)\n",
    "root.right.right = TreeNode(7)\n",
    "\n",
    "print(\"DFS traversal of the tree:\")\n",
    "print(dfs_tree(root))\n"
   ]
  },
  {
   "cell_type": "markdown",
   "metadata": {
    "id": "7dhGteR-WBkw"
   },
   "source": [
    "Explanation\n",
    "\n",
    "- We define a `TreeNode` class to represent each node in the tree. Each node has a value and references to its left and right children.\n",
    "- The `dfs_tree` function takes the root of the tree as input and performs a Depth First Search traversal.\n",
    "- We define a nested function `dfs` to perform the DFS traversal recursively.\n",
    "- The `dfs` function takes a node as input and recursively traverses the tree in depth-first order (pre-order traversal).\n",
    "- We start the traversal from the root node by calling `dfs(root)`.\n",
    "- As we traverse the tree recursively, we append the value of each node to the result list.\n",
    "- Finally, we return the result list containing the DFS traversal order of the tree.\n"
   ]
  },
  {
   "cell_type": "code",
   "execution_count": 19,
   "metadata": {
    "colab": {
     "base_uri": "https://localhost:8080/"
    },
    "id": "5hDqFxbNWAt6",
    "outputId": "e1f15baa-d563-4d06-d1a6-7be724498285"
   },
   "outputs": [
    {
     "name": "stdout",
     "output_type": "stream",
     "text": [
      "DFS traversal of the tree with depth limit 2:\n",
      "[1, 2, 3]\n"
     ]
    }
   ],
   "source": [
    "class TreeNode:\n",
    "    def __init__(self, value):\n",
    "        self.value = value\n",
    "        self.left = None\n",
    "        self.right = None\n",
    "\n",
    "def dfs_tree_depth_limited(root, depth_limit):\n",
    "    if not root:\n",
    "        return []\n",
    "\n",
    "    result = []\n",
    "\n",
    "    def dfs(node, depth):\n",
    "        if not node or depth == 0:\n",
    "            return\n",
    "        result.append(node.value)\n",
    "        dfs(node.left, depth - 1)\n",
    "        dfs(node.right, depth - 1)\n",
    "\n",
    "    dfs(root, depth_limit)\n",
    "    return result\n",
    "\n",
    "# Example\n",
    "# Constructing a binary tree\n",
    "#         1\n",
    "#       /   \\\n",
    "#      2     3\n",
    "#     / \\   / \\\n",
    "#    4   5 6   7\n",
    "\n",
    "root = TreeNode(1)\n",
    "root.left = TreeNode(2)\n",
    "root.right = TreeNode(3)\n",
    "root.left.left = TreeNode(4)\n",
    "root.left.right = TreeNode(5)\n",
    "root.right.left = TreeNode(6)\n",
    "root.right.right = TreeNode(7)\n",
    "\n",
    "depth_limit = 2\n",
    "\n",
    "print(f\"DFS traversal of the tree with depth limit {depth_limit}\")\n",
    "print(dfs_tree_depth_limited(root, depth_limit))\n"
   ]
  },
  {
   "cell_type": "markdown",
   "metadata": {
    "id": "buS3lNtWWa55"
   },
   "source": [
    "Explanation\n",
    "\n",
    "- The `dfs_tree_depth_limited` function takes the root of the tree and a depth limit as input and performs a Depth Limited First Search traversal.\n",
    "- We define a nested function `dfs` to perform the DFS traversal recursively, similar to the previous DFS implementation.\n",
    "- However, in this implementation, we check if the current depth reaches the depth limit. If it does, we stop the traversal for that subtree.\n",
    "- The depth limit is decreased by 1 for each recursive call.\n",
    "- The traversal stops when the depth limit becomes 0 or when we reach a leaf node.\n",
    "- Finally, we return the result list containing the DFS traversal up to the specified depth limit."
   ]
  }
 ],
 "metadata": {
  "colab": {
   "provenance": []
  },
  "kernelspec": {
   "display_name": "Python 3 (ipykernel)",
   "language": "python",
   "name": "python3"
  },
  "language_info": {
   "codemirror_mode": {
    "name": "ipython",
    "version": 3
   },
   "file_extension": ".py",
   "mimetype": "text/x-python",
   "name": "python",
   "nbconvert_exporter": "python",
   "pygments_lexer": "ipython3",
   "version": "3.10.12"
  }
 },
 "nbformat": 4,
 "nbformat_minor": 1
}
